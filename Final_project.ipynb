{
 "cells": [
  {
   "cell_type": "markdown",
   "id": "2b9214d8",
   "metadata": {},
   "source": [
    "## Общая информация о соревновании\n",
    "\n",
    "\n",
    "### Ссылка на соревнование:\n",
    "https://www.kaggle.com/competitions/anomaly-detection-competition-ml1-ts-spring-2022/overview\n",
    "\n",
    "#### Наша команда: Na chille, na rasslabone\n",
    "\n",
    "#### Описание соревнования:\n",
    "Во множестве прикладных задач возникает необходимость разбить веб-страницы на какие-то определенные группы, где в каждой группе страницы будут очень похожи по смыслу. Например, представим, что Вы владелец сервиса интернет рекламы. Вашим клиентам хочется, чтобы их услуги рекламировались не на каком-то определенном сайте, а на всех сайтах их тематики. То есть Вам нужна какая-то тематическая разметка сайтов в интернете по множеству тематик, и клиент сможет выбрать любую, какая ему больше нравится. Как же такую разметку сделать?\n",
    "\n",
    "Самый простой способ - разметить людьми множество сайтов в интернете на множество тем, настроить на этой выборке многоклассовый классификатор и сделать предсказанием на всем оставшемся \"интернете\". Однако, в таком подходе возникает несколько проблем. Во-первых, непонятно откуда брать само множество тем, на которое размечать. Во-вторых, даже если множество тем зафиксировано, не очень понятно, откуда для каждой темы брать примеры, чтобы добавить их в обучающее множество.\n",
    "\n",
    "В данном задании мы предлагаем Вам попробовать другое решение. Пусть тематику задают сами данные! Разделим наши веб-страницы на множество групп, например, просто по словам в веб-страницах. В такой группе буду как документы об одном и том же, так и \"аномалии\", которые имеют схожие слова, но не соответствуют документам основной тематики. Например, в такой группе может содержаться подмножество веб-страниц про \"ремонт пластиковых окон\" и аномалии вроде \"пластиковые игрушки\", \"ремонт квартир\" и так далее. Нам останется только выделить подмножество документов одной темы, то есть все документы, которые про \"ремонт пластовых окон\" и убрать все аномалии. Затем подмножество как-то проименуем, чтобы показать клиенту, но этим Вы уже займетесь, когда будете продавать Вашу систему :)\n",
    "\n",
    "В задании Вам предлагается работать с 28026 веб-страницами, которые уже скачаны и лежат в архиве content.tar.gz. Эти страницы разбиты по группам, каждая группа около 100 страниц. Каждая группа соответствует какой-то определенной теме, которая Вам неизвестна. Обучающее множество состоит из 129 групп. В обучающих группах ручной разметкой было проставлено, соответствует ли данный документ теме группы (target = 1) или это аномалия (target = 0). Тестовое множество состоит из 180 групп. Вам необходимо проставить для них target. Важно отметить, что обучающие и тестовые группы не пересекаются. Гарантируется, что в каждой группе есть подмножество документов из ее темы.\n"
   ]
  },
  {
   "cell_type": "code",
   "execution_count": 32,
   "id": "9a2135e0",
   "metadata": {},
   "outputs": [
    {
     "name": "stderr",
     "output_type": "stream",
     "text": [
      "[nltk_data] Downloading package stopwords to\n",
      "[nltk_data]     C:\\Users\\masha\\AppData\\Roaming\\nltk_data...\n",
      "[nltk_data]   Package stopwords is already up-to-date!\n"
     ]
    }
   ],
   "source": [
    "import requests\n",
    "import logging\n",
    "import gzip\n",
    "import json\n",
    "import codecs\n",
    "import re\n",
    "import regex\n",
    "import tarfile\n",
    "import os.path\n",
    "\n",
    "import numpy as np\n",
    "import pandas as pd\n",
    "import nltk\n",
    "nltk.download('stopwords')\n",
    "from nltk.corpus import stopwords\n",
    "from tqdm import tqdm\n",
    "from multiprocessing.dummy import Pool, Queue\n",
    "from bs4 import BeautifulSoup\n",
    "from time import sleep\n",
    "from collections import Counter\n",
    "from nltk.stem.porter import PorterStemmer\n",
    "from nltk.stem.snowball import SnowballStemmer \n",
    "from bs4.element import Comment\n",
    "from sklearn.ensemble import GradientBoostingClassifier, RandomForestRegressor, RandomForestClassifier\n",
    "from sklearn.metrics import accuracy_score\n",
    "\n",
    "from pymorphy2 import MorphAnalyzer\n",
    "from sklearn.metrics import f1_score\n",
    "from sklearn.feature_extraction.text import TfidfVectorizer\n",
    "from scipy.spatial.distance import pdist, squareform\n",
    "import matplotlib.pyplot as plt \n",
    "from sklearn.metrics import classification_report\n",
    "from sklearn.feature_extraction.text import CountVectorizer\n",
    "\n",
    "from sklearn.ensemble import AdaBoostClassifier\n",
    "from sklearn.linear_model import SGDClassifier\n",
    "from sklearn.decomposition import PCA"
   ]
  },
  {
   "cell_type": "markdown",
   "id": "e5c93a08",
   "metadata": {},
   "source": [
    "### Обрабатываем html странички\n",
    "\n",
    "Функции для обработки текста html страничек. \n",
    "Вытаскиваем заголовки и текст страниц, убираем все знаки кроме букв. К заголовкам применяем лемматизаци, а к тексту стемминг(применять лемматизацию к тексту было затратно). Для каждой страгички сохраняем обработанный заголовок, 50 самых часто встречаемых слов в тексте стрвницы, количество слов в заголовке и количество значимых слов в тексте."
   ]
  },
  {
   "cell_type": "code",
   "execution_count": 2,
   "id": "0b11ff36",
   "metadata": {},
   "outputs": [],
   "source": [
    "def tag_visible(element):\n",
    "    if element.parent.name in ['style', 'script', 'head', 'title', 'meta', '[document]', 'option']:\n",
    "        return False\n",
    "    if isinstance(element, Comment):\n",
    "        return False\n",
    "    return True"
   ]
  },
  {
   "cell_type": "code",
   "execution_count": 3,
   "id": "126181c3",
   "metadata": {},
   "outputs": [],
   "source": [
    "def get_title_and_text(doc_id):\n",
    "    \"\"\"\n",
    "        Get set of words from title\n",
    "        and most common words from text\n",
    "    \"\"\"\n",
    "    page = open(\"content/\" + str(doc_id) + \".dat\", 'r', encoding='utf-8').read()\n",
    "    soup = BeautifulSoup(page, 'html.parser')\n",
    "    \n",
    "    stemmer = SnowballStemmer(\"russian\")\n",
    "    morph = MorphAnalyzer()\n",
    "    title = soup.title.text\n",
    "    \n",
    "    reg = regex.compile('[^a-zA-Zа-яА-Я ]')\n",
    "    stop = set(stopwords.words('russian'))\n",
    "    new_title = ' '.join([morph.normal_forms(w.lower())[0] for w in reg.sub('', title).strip().split() if (not (w.lower() in stop))])\n",
    "\n",
    "    txt = soup.findAll(text=True)\n",
    "    visible = filter(tag_visible, txt)\n",
    "    txt = u\" \".join(t.strip() for t in visible)\n",
    "\n",
    "    txt = reg.sub('', txt)\n",
    "    words = [stemmer.stem(word) for word in txt.split() if (not (word in stop)) and len(word) > 1]\n",
    "    cnt = Counter(words)\n",
    "\n",
    "    return (new_title, ' '.join(dict(cnt.most_common(50)).keys()), len(words))"
   ]
  },
  {
   "cell_type": "code",
   "execution_count": 4,
   "id": "c6399043",
   "metadata": {},
   "outputs": [],
   "source": [
    "def process_page(pair_id):\n",
    "    \"\"\"\n",
    "        Get information about pair (doc, group):\n",
    "        - doc_id - номер документа,\n",
    "        - title - множество слов из заголовка страницы,\n",
    "        - text - множество из 50 самых частых слов текста страницы,\n",
    "        - target.\n",
    "    \"\"\"\n",
    "    new_doc = train_data.loc[pair_id]\n",
    "    doc_group = new_doc['group_id']\n",
    "    doc_id = new_doc['doc_id']\n",
    "    target = new_doc['target']\n",
    "    try:\n",
    "        title, text, size_text = get_title_and_text(doc_id)\n",
    "    except:\n",
    "        title, text, size_text = '', '', 0\n",
    "    if doc_group not in traingroups_data:\n",
    "        traingroups_data[doc_group] = []\n",
    "    traingroups_data[doc_group].append((doc_id, title, text, len(title), size_text, target))\n",
    "    return (doc_id, title, text, len(title), size_text, target)"
   ]
  },
  {
   "cell_type": "markdown",
   "id": "4988e45d",
   "metadata": {},
   "source": [
    "### Реализация обработки всех страниц из обучающей выборки в несколько потоков"
   ]
  },
  {
   "cell_type": "code",
   "execution_count": 185,
   "id": "70243d92",
   "metadata": {},
   "outputs": [
    {
     "name": "stderr",
     "output_type": "stream",
     "text": [
      "100%|███████████████████████████████████████████████████████████████████████████████████| 1/1 [01:54<00:00, 114.08s/it]\n"
     ]
    }
   ],
   "source": [
    "queue_groups = Queue()   # очередь ссылок на группы\n",
    "train_data = pd.read_csv('train_groups.csv')\n",
    "traingroups_data = {}\n",
    "train_data.index = train_data.pair_id\n",
    "\n",
    "groups_to_process = [29]\n",
    "\n",
    "# Create queue of groups and n_groups queues of pair_ids in group\n",
    "queue = {i: Queue() for i in groups_to_process}# gtrain_data.group_id.unique()}\n",
    "for group in groups_to_process:# train_data.group_id.unique():\n",
    "    queue_groups.put(group)\n",
    "    for pair in train_data[train_data.group_id == group].itertuples():\n",
    "        queue[group].put(pair.pair_id)\n",
    "#for pair in train_data[train_data.group_id == 1].itertuples():\n",
    "#    queue.put(pair.pair_id)\n",
    "\n",
    "#pages_data = {i:[] for i in groups_to_process}# train_data.group_id.unique()\n",
    "\n",
    "#zipfile = 'content.tar.gz'\n",
    "#tar = tarfile.open(zipfile, \"r:gz\") # Считывает архив с данными\n",
    "\n",
    "def extract_pages(group):\n",
    "    \"\"\"\n",
    "        Extract pages data from .gz archive if not extracted\n",
    "    \"\"\"\n",
    "    for pair in train_data[train_data.group_id == group].itertuples():\n",
    "        if not os.path.exists(\"content/\" + str(pair.doc_id) + \".dat\"):\n",
    "            tar.extract(\"content/\" + str(pair.doc_id) + \".dat\")\n",
    "\n",
    "def process_page_wrapper(i):\n",
    "    while not queue_groups.empty():\n",
    "        group = int(queue_groups.get())\n",
    "        #extract_pages(group)\n",
    "        with open('data_2/group_{:03d}.txt'.format(group), mode='wb') as f_json:\n",
    "            f_json = codecs.getwriter('utf_16')(f_json)\n",
    "            record = {}\n",
    "            while not queue[group].empty():\n",
    "                pair_id = queue[group].get()\n",
    "                doc_id, title, text, size_title, size_text, target = process_page(pair_id)\n",
    "                record[pair_id] = {'doc_id': int(doc_id), 'title': title, 'text': text, 'size_title': size_title, 'size_text': size_text,' target': int(target)}\n",
    "                #print(record[pair_id]) \n",
    "                #pages_data[group].append((doc_id, title, text, size_title, target))\n",
    "            record_str = json.dumps(record, indent=4, ensure_ascii=False)\n",
    "            print(record_str, file=f_json) \n",
    "            with lock:\n",
    "                pbar.update(1)\n",
    "\n",
    "\n",
    "with Pool(processes=4) as pool, tqdm(total=queue_groups.qsize()) as pbar:\n",
    "    lock = pbar.get_lock()\n",
    "    pool.map(process_page_wrapper, range(pool._processes))\n",
    "    pool.close()\n",
    "    pool.join()"
   ]
  },
  {
   "cell_type": "markdown",
   "id": "c1c24fe9",
   "metadata": {},
   "source": [
    "### Делаем такую же обработку в несколько потоков для страниц из тестовой выборки"
   ]
  },
  {
   "cell_type": "code",
   "execution_count": 5,
   "id": "a99feaa4",
   "metadata": {},
   "outputs": [],
   "source": [
    "def process_page_test(pair_id):\n",
    "    \"\"\"\n",
    "        Get information about pair (doc, group):\n",
    "        - doc_id - номер документа,\n",
    "        - title - множество слов из заголовка страницы,\n",
    "        - text - множество из 50 самых частых слов текста страницы,\n",
    "        - target.\n",
    "    \"\"\"\n",
    "    new_doc = test_data.loc[pair_id]\n",
    "    doc_group = new_doc['group_id']\n",
    "    doc_id = new_doc['doc_id']\n",
    "    try:\n",
    "        title, text, size_text = get_title_and_text(doc_id)\n",
    "    except:\n",
    "        title, text, size_text = '', '', 0\n",
    "    #title = doc_to_title[doc_id]\n",
    "    if doc_group not in traingroups_data:\n",
    "        testgroups_data[doc_group] = []\n",
    "#     traingroups_data[doc_group].append((doc_id, title, text, target))\n",
    "#     return (doc_id, title, text, target)\n",
    "    testgroups_data[doc_group].append((doc_id, title, text, len(title), size_text))\n",
    "    return (doc_id, title, text, len(title), size_text)"
   ]
  },
  {
   "cell_type": "code",
   "execution_count": 197,
   "id": "7b6207b6",
   "metadata": {},
   "outputs": [
    {
     "name": "stderr",
     "output_type": "stream",
     "text": [
      "100%|████████████████████████████████████████████████████████████████████████████████████| 3/3 [02:38<00:00, 52.97s/it]\n"
     ]
    }
   ],
   "source": [
    "queue_groups = Queue()   # очередь ссылок на группы\n",
    "test_data = pd.read_csv('test_groups.csv')\n",
    "testgroups_data = {}\n",
    "test_data.index = test_data.pair_id\n",
    "\n",
    "groups_to_process = [133, 239, 307]\n",
    "\n",
    "# Create queue of groups and n_groups queues of pair_ids in group\n",
    "queue = {i: Queue() for i in groups_to_process}# gtrain_data.group_id.unique()}\n",
    "for group in groups_to_process:# train_data.group_id.unique():\n",
    "    queue_groups.put(group)\n",
    "    for pair in test_data[test_data.group_id == group].itertuples():\n",
    "        queue[group].put(pair.pair_id)\n",
    "#for pair in train_data[train_data.group_id == 1].itertuples():\n",
    "#    queue.put(pair.pair_id)\n",
    "\n",
    "#pages_data = {i:[] for i in groups_to_process}# train_data.group_id.unique()\n",
    "\n",
    "#zipfile = 'content.tar.gz'\n",
    "#tar = tarfile.open(zipfile, \"r:gz\") # Считывает архив с данными\n",
    "\n",
    "def extract_pages(group):\n",
    "    \"\"\"\n",
    "        Extract pages data from .gz archive if not extracted\n",
    "    \"\"\"\n",
    "    for pair in test_data[test_data.group_id == group].itertuples():\n",
    "        if not os.path.exists(\"content/\" + str(pair.doc_id) + \".dat\"):\n",
    "            tar.extract(\"content/\" + str(pair.doc_id) + \".dat\")\n",
    "\n",
    "def process_page_wrapper(i):\n",
    "    while not queue_groups.empty():\n",
    "        group = int(queue_groups.get())\n",
    "        #extract_pages(group)\n",
    "        with open('data_test/group_{:03d}.txt'.format(group), mode='wb') as f_json:\n",
    "            f_json = codecs.getwriter('utf_16')(f_json)\n",
    "            record = {}\n",
    "            while not queue[group].empty():\n",
    "                pair_id = queue[group].get()\n",
    "                doc_id, title, text, size_title, size_text = process_page_test(pair_id)\n",
    "                record[pair_id] = {'doc_id': int(doc_id), 'title': title, 'text': text, 'size_title': size_title, 'size_text': size_text}\n",
    "                #print(record[pair_id]) \n",
    "                #pages_data[group].append((doc_id, title, text, size_title, target))\n",
    "            record_str = json.dumps(record, indent=4, ensure_ascii=False)\n",
    "            print(record_str, file=f_json) \n",
    "            with lock:\n",
    "                pbar.update(1)\n",
    "\n",
    "\n",
    "with Pool(processes=4) as pool, tqdm(total=queue_groups.qsize()) as pbar:\n",
    "    lock = pbar.get_lock()\n",
    "    pool.map(process_page_wrapper, range(pool._processes))\n",
    "    pool.close()\n",
    "    pool.join()"
   ]
  },
  {
   "cell_type": "markdown",
   "id": "216b3e16",
   "metadata": {},
   "source": [
    "### Создание фичей\n",
    "\n",
    "Информация про каждый файл была записана по группам в json файлы(1 файл на 1 группу). Создаем матрицу признаков, для этого применяем векторайзер отдельно к заголовкам, отдельно к популярным словам из текста по группам, считаем косинусово расстояние и берем 25 самый больших расстояний и для заголовков и для текстов, количество слов в заголовке и в тексте оставляем в прежнем формате."
   ]
  },
  {
   "cell_type": "code",
   "execution_count": 128,
   "id": "ac388342",
   "metadata": {},
   "outputs": [],
   "source": [
    "def parser_groups_train(numbers):\n",
    "    vectorizer_titel = TfidfVectorizer()\n",
    "    vectorizer_text = TfidfVectorizer()\n",
    "\n",
    "    X, y = [], []\n",
    "    for group in numbers:\n",
    "        with open('data_3/group_{:03d}.txt'.format(group), mode=\"rb\") as json_file:\n",
    "            json_file = codecs.getreader('utf-16')(json_file)\n",
    "            #try:\n",
    "            docs = json.load(json_file)\n",
    "#             except json.JSONDecodeError:\n",
    "#                 continue\n",
    "            docs = [list(f.values()) for f in docs.values()]\n",
    "            doc_id, title, text, size_title, size_text, target = zip(*docs)\n",
    "\n",
    "            distances_title = pdist(vectorizer_titel.fit_transform(title).toarray(), 'cosine')\n",
    "            distances_title[np.where(np.isnan(distances_title))[0]] = 1.\n",
    "\n",
    "            distances_text = pdist(vectorizer_text.fit_transform(text).toarray(), 'cosine')\n",
    "            distances_text[np.where(np.isnan(distances_text))[0]] = 1.\n",
    "\n",
    "            f1 = np.sort(squareform(distances_title))[:, 1:26]\n",
    "            f2 = np.sort(squareform(distances_text))[:, 1:26]   \n",
    "            f3 = np.array(size_title)\n",
    "            f3 = f3[:, np.newaxis]\n",
    "            f4 = np.array(size_text)\n",
    "            f4 = f4[:, np.newaxis]\n",
    "\n",
    "            features = np.concatenate((f1, f2, f3, f4), axis=1)\n",
    "            X.extend(features)\n",
    "            y.extend(target)\n",
    "            \n",
    "    return np.array(X), np.array(y)"
   ]
  },
  {
   "cell_type": "code",
   "execution_count": 129,
   "id": "5bcb932d",
   "metadata": {},
   "outputs": [],
   "source": [
    "def parser_groups_test(numbers):\n",
    "    vectorizer_titel = TfidfVectorizer()\n",
    "    vectorizer_text = TfidfVectorizer()\n",
    "\n",
    "    X, y = [], []\n",
    "    for group in numbers:\n",
    "        with open('data_test/group_{:03d}.txt'.format(group), mode=\"rb\") as json_file:\n",
    "            json_file = codecs.getreader('utf-16')(json_file)\n",
    "            docs = json.load(json_file)\n",
    "            docs = [list(f.values()) for f in docs.values()]\n",
    "            doc_id, title, text, size_title, size_text = zip(*docs)\n",
    "\n",
    "            distances_title = pdist(vectorizer_titel.fit_transform(title).toarray(), 'cosine')\n",
    "            distances_title[np.where(np.isnan(distances_title))[0]] = 1.\n",
    "\n",
    "            distances_text = pdist(vectorizer_text.fit_transform(text).toarray(), 'cosine')\n",
    "            distances_text[np.where(np.isnan(distances_text))[0]] = 1.\n",
    "\n",
    "            f1 = np.sort(squareform(distances_title))[:, 1:26]\n",
    "            f2 = np.sort(squareform(distances_text))[:, 1:26]   \n",
    "            f3 = np.array(size_title)\n",
    "            f3 = f3[:, np.newaxis]\n",
    "            f4 = np.array(size_text)\n",
    "            f4 = f4[:, np.newaxis]\n",
    "\n",
    "            features = np.concatenate((f1, f2, f3, f4), axis=1)\n",
    "            X.extend(features)\n",
    "            y.extend(doc_id)\n",
    "            \n",
    "    return np.array(X), np.array(y)"
   ]
  },
  {
   "cell_type": "markdown",
   "id": "121d494b",
   "metadata": {},
   "source": [
    "Создаем X_train, y_train, X_test"
   ]
  },
  {
   "cell_type": "code",
   "execution_count": 130,
   "id": "08a10c19",
   "metadata": {},
   "outputs": [],
   "source": [
    "X_train, y_train = parser_groups_train(range(1, 130))\n",
    "X_test, y_ind = parser_groups_test(range(130,310))"
   ]
  },
  {
   "cell_type": "markdown",
   "id": "5890e9c8",
   "metadata": {},
   "source": [
    "Применяем модель давшую наибольший f1_score (эксперементы с моделями и параметрами ниже)"
   ]
  },
  {
   "cell_type": "code",
   "execution_count": 131,
   "id": "b2b51f81",
   "metadata": {},
   "outputs": [
    {
     "data": {
      "application/vnd.jupyter.widget-view+json": {
       "model_id": "adf7cc22c03249fc934ab6e8ec00592d",
       "version_major": 2,
       "version_minor": 0
      },
      "text/plain": [
       "MetricVisualizer(layout=Layout(align_self='stretch', height='500px'))"
      ]
     },
     "metadata": {},
     "output_type": "display_data"
    }
   ],
   "source": [
    "my_clf = CatBoostClassifier(loss_function='Logloss',\n",
    "                            depth=6,\n",
    "                            learning_rate=0.01,\n",
    "                            verbose=False, \n",
    "                            iterations=2000, \n",
    "                            leaf_estimation_method = 'Gradient',\n",
    "                            random_seed=42,\n",
    "                            custom_loss=['F1', 'Precision', 'Recall'],\n",
    "                            class_weights={0:1, 1:2})\n",
    "my_clf.fit(X_train, y_train, plot=True)\n",
    "pred = my_clf.predict(X_test)"
   ]
  },
  {
   "cell_type": "markdown",
   "id": "5dc21f45",
   "metadata": {},
   "source": [
    "Записываем предсказание"
   ]
  },
  {
   "cell_type": "code",
   "execution_count": 133,
   "id": "14eea264",
   "metadata": {},
   "outputs": [],
   "source": [
    "pred = pred.astype('int')\n",
    "test_data = pd.read_csv('test_groups.csv')\n",
    "file = open(\"popt.csv\", \"w\")\n",
    "file.write(\"pair_id,target\\n\")\n",
    "pair_ids = test_data['pair_id']\n",
    "for k, pair_id in enumerate(pair_ids):\n",
    "    file.write(str(pair_id) + \",\" +str(pred[k]) + str(\"\\n\"))\n",
    "file.close()"
   ]
  },
  {
   "cell_type": "markdown",
   "id": "c5015667",
   "metadata": {},
   "source": [
    "Тут мы совмещали несколько предсказаний"
   ]
  },
  {
   "cell_type": "code",
   "execution_count": 134,
   "id": "82cf0f35",
   "metadata": {},
   "outputs": [],
   "source": [
    "file1 = pd.read_csv(\"popt.csv\")\n",
    "file2 = pd.read_csv(\"02.csv\")\n",
    "file3 = pd.read_csv(\"04.csv\")\n",
    "\n",
    "file1.head()\n",
    "file1['target2'] = file2['target']\n",
    "file1['target3'] = file3['target']\n",
    "file1['final'] = np.around((file1['target'] + file2['target'] + file3['target'])/3).astype('int')\n",
    "file4 = file1[['pair_id','final']]\n",
    "file4.rename(columns={'final':'target'}, inplace=True)\n",
    "file4.to_csv(\"together3.csv\", index=False)"
   ]
  },
  {
   "cell_type": "markdown",
   "id": "026e38da",
   "metadata": {},
   "source": [
    "Далее идут достаточно сумбурные эксперементы с попытками применить разные модели с разными параметрами, попытки сделать блендинг, как-то понизить расмерность)))"
   ]
  },
  {
   "cell_type": "code",
   "execution_count": 178,
   "id": "bdd062a6",
   "metadata": {},
   "outputs": [],
   "source": [
    "X_train, y_train = parser_groups_train(range(1, 100))\n",
    "X_test, y_test = parser_groups_train(range(100, 130))"
   ]
  },
  {
   "cell_type": "code",
   "execution_count": 179,
   "id": "d7fb0089",
   "metadata": {},
   "outputs": [
    {
     "data": {
      "application/vnd.jupyter.widget-view+json": {
       "model_id": "1695994eeb534b6c9f43a2d2aa52e87b",
       "version_major": 2,
       "version_minor": 0
      },
      "text/plain": [
       "MetricVisualizer(layout=Layout(align_self='stretch', height='500px'))"
      ]
     },
     "metadata": {},
     "output_type": "display_data"
    },
    {
     "name": "stdout",
     "output_type": "stream",
     "text": [
      "0.7227555053642011\n"
     ]
    }
   ],
   "source": [
    "clf = CatBoostClassifier(loss_function='Logloss',\n",
    "                            depth=6,\n",
    "                            learning_rate=0.01,\n",
    "                            verbose=False, \n",
    "                            iterations=3000, \n",
    "                            leaf_estimation_method = 'Gradient',\n",
    "                            random_seed=42,\n",
    "                            custom_loss=['F1', 'Precision', 'Recall'])\n",
    "clf.fit(X_train, y_train, plot=True)\n",
    "pred = clf.predict(X_test)\n",
    "print(f1_score(y_test, pred))"
   ]
  },
  {
   "cell_type": "code",
   "execution_count": 80,
   "id": "ad3078f7",
   "metadata": {},
   "outputs": [],
   "source": [
    "def blending(number_A, number_B, X_test):\n",
    "    A_x, A_y = parser_groups_train(number_A)\n",
    "    B_x, B_y = parser_groups_train(number_B)\n",
    "    C = X_test\n",
    "    models = []\n",
    "    b_pred = []\n",
    "    c_pred = []\n",
    "    for i in range(5):\n",
    "        clf = CatBoostClassifier(loss_function='Logloss',\n",
    "                            depth=6,\n",
    "                            learning_rate=0.01,\n",
    "                            verbose=False, \n",
    "                            iterations=2000, \n",
    "                            leaf_estimation_method = 'Gradient',\n",
    "                            subsample=0.6,\n",
    "                            custom_loss=['F1', 'Precision', 'Recall'])\n",
    "        clf.fit(A_x, A_y, plot=True)\n",
    "        models.append(clf)\n",
    "        b_pred.append(clf.predict(B_x))\n",
    "        c_pred.append(clf.predict(C))\n",
    "    clf = SGDClassifier()\n",
    "    b_pred = np.transpose(np.array(b_pred))\n",
    "    c_pred = np.transpose(np.array(c_pred))\n",
    "    clf.fit(b_pred, B_y)\n",
    "    return  clf.predict(c_pred)                     "
   ]
  },
  {
   "cell_type": "code",
   "execution_count": 10,
   "id": "29bc7401",
   "metadata": {},
   "outputs": [],
   "source": [
    "from sklearn import svm\n",
    "from catboost import CatBoostClassifier"
   ]
  },
  {
   "cell_type": "code",
   "execution_count": 100,
   "id": "3d814daf",
   "metadata": {},
   "outputs": [],
   "source": [
    "def blending_2(number_A, number_B, X_test):\n",
    "    A_x, A_y = parser_groups_train(number_A)\n",
    "    B_x, B_y = parser_groups_train(number_B)\n",
    "    C = X_test\n",
    "    models = []\n",
    "    b_pred = []\n",
    "    c_pred = []\n",
    "    \n",
    "    clf_1 = svm.SVC(class_weight={1:2})\n",
    "    clf_1.fit(A_x, A_y)\n",
    "    print(f1_score(clf_1.predict(A_x), A_y))\n",
    "    models.append(clf_1)\n",
    "    b_pred.append(clf_1.predict(B_x))\n",
    "    c_pred.append(clf_1.predict(C))\n",
    "    \n",
    "#     clf_2 = CatBoostClassifier(loss_function='Logloss',\n",
    "#                             depth=6,\n",
    "#                             learning_rate=0.01,\n",
    "#                             verbose=False, \n",
    "#                             iterations=2000, \n",
    "#                             leaf_estimation_method = 'Gradient',\n",
    "#                             subsample=0.6,\n",
    "#                             custom_loss=['F1', 'Precision', 'Recall'])\n",
    "#     clf_2.fit(A_x, A_y, plot=True)\n",
    "#     models.append(clf_2)\n",
    "#     b_pred.append(clf_2.predict(B_x))\n",
    "#     c_pred.append(clf_2.predict(C))\n",
    "    \n",
    "#     clf_3 = CatBoostClassifier(loss_function='Logloss',\n",
    "#                             depth=6,\n",
    "#                             learning_rate=0.01,\n",
    "#                             verbose=False, \n",
    "#                             iterations=2000, \n",
    "#                             leaf_estimation_method = 'Gradient',\n",
    "#                             subsample=0.6,\n",
    "#                             custom_loss=['F1', 'Precision', 'Recall'])\n",
    "#     clf_3.fit(A_x, A_y, plot=True)\n",
    "#     models.append(clf_3)\n",
    "#     b_pred.append(clf_3.predict(B_x))\n",
    "#     c_pred.append(clf_3.predict(C)) \n",
    "    \n",
    "#     clf_2 = GradientBoostingClassifier()\n",
    "#     clf_2.fit(A_x, A_y)\n",
    "#     models.append(clf_2)\n",
    "#     b_pred.append(clf_2.predict(B_x))\n",
    "#     c_pred.append(clf_2.predict(C))\n",
    "    \n",
    "    clf_3 = RandomForestClassifier(criterion='entropy', max_depth=6, class_weight={1:2})\n",
    "    clf_3.fit(A_x, A_y)\n",
    "    print(f1_score(clf_3.predict(A_x), A_y))\n",
    "    models.append(clf_3)\n",
    "    b_pred.append(clf_3.predict(B_x))\n",
    "    c_pred.append(clf_3.predict(C))\n",
    "    \n",
    "    \n",
    "    clf = SGDClassifier(class_weight={1:2})\n",
    "    b_pred = np.transpose(np.array(b_pred))\n",
    "    c_pred = np.transpose(np.array(c_pred))\n",
    "    clf.fit(b_pred, B_y)\n",
    "    print(f1_score(clf.predict(b_pred), B_y))\n",
    "    return  clf.predict(c_pred)"
   ]
  },
  {
   "cell_type": "code",
   "execution_count": 98,
   "id": "ec1f19fc",
   "metadata": {},
   "outputs": [
    {
     "name": "stdout",
     "output_type": "stream",
     "text": [
      "0.5845089166888474\n",
      "0.7087975412985018\n",
      "0.7456765005086471\n"
     ]
    }
   ],
   "source": [
    "X_test, y_ind = parser_groups_test(range(130,310))\n",
    "pred = blending_2(range(1, 100), range(100,130), X_test)"
   ]
  },
  {
   "cell_type": "code",
   "execution_count": 101,
   "id": "d58c72dd",
   "metadata": {},
   "outputs": [
    {
     "name": "stdout",
     "output_type": "stream",
     "text": [
      "0.0\n",
      "0.7309099780434253\n",
      "0.6413333333333333\n",
      "0.7471852610030707\n"
     ]
    }
   ],
   "source": [
    "X_test, y_test = parser_groups_train(range(100, 130))\n",
    "pred = blending_2(range(1, 80), range(70,100), X_test)\n",
    "print(f1_score(y_test, pred))"
   ]
  },
  {
   "cell_type": "code",
   "execution_count": 14,
   "id": "d4a98b22",
   "metadata": {},
   "outputs": [],
   "source": [
    "X_train, y_train = parser_groups_train(range(1, 100))\n",
    "X_test, y_test = parser_groups_train(range(100, 130))"
   ]
  },
  {
   "cell_type": "code",
   "execution_count": 23,
   "id": "74200f8e",
   "metadata": {},
   "outputs": [
    {
     "name": "stdout",
     "output_type": "stream",
     "text": [
      "0.6105100463678517\n"
     ]
    }
   ],
   "source": [
    "clf = svm.SVC(class_weight={1:2})\n",
    "clf.fit(X_train, y_train)\n",
    "pred = clf.predict(X_test)\n",
    "print(f1_score(y_test, pred))"
   ]
  },
  {
   "cell_type": "code",
   "execution_count": 46,
   "id": "90bdbb93",
   "metadata": {},
   "outputs": [
    {
     "name": "stdout",
     "output_type": "stream",
     "text": [
      "0.7396483267158253\n"
     ]
    }
   ],
   "source": [
    "clf = RandomForestClassifier(criterion='entropy', max_depth=6)\n",
    "clf.fit(X_train, y_train)\n",
    "pred = clf.predict(X_test)\n",
    "print(f1_score(y_test, pred))"
   ]
  },
  {
   "cell_type": "code",
   "execution_count": null,
   "id": "51142413",
   "metadata": {},
   "outputs": [],
   "source": [
    "X_test, y_ind = parser_groups_test(range(130,310))"
   ]
  },
  {
   "cell_type": "code",
   "execution_count": 105,
   "id": "25ca33b5",
   "metadata": {},
   "outputs": [
    {
     "name": "stdout",
     "output_type": "stream",
     "text": [
      "0.7037964925804586\n",
      "0.7452974072191154\n"
     ]
    }
   ],
   "source": [
    "clf = RandomForestClassifier(n_estimators=, criterion='entropy', max_depth=6, class_weight={1:2})\n",
    "clf.fit(X_train, y_train)\n",
    "pred = clf.predict(X_test)\n",
    "print(f1_score(clf.predict(X_train), y_train))\n",
    "print(f1_score(pred, y_test))"
   ]
  },
  {
   "cell_type": "code",
   "execution_count": 13,
   "id": "ad7f7f5b",
   "metadata": {},
   "outputs": [
    {
     "name": "stdout",
     "output_type": "stream",
     "text": [
      "0.7361492046077894\n"
     ]
    }
   ],
   "source": [
    "print(f1_score(y_test, pred))"
   ]
  },
  {
   "cell_type": "code",
   "execution_count": 81,
   "id": "3cfb2093",
   "metadata": {},
   "outputs": [
    {
     "data": {
      "application/vnd.jupyter.widget-view+json": {
       "model_id": "edff46d292f54fd2afdba601883cf355",
       "version_major": 2,
       "version_minor": 0
      },
      "text/plain": [
       "MetricVisualizer(layout=Layout(align_self='stretch', height='500px'))"
      ]
     },
     "metadata": {},
     "output_type": "display_data"
    },
    {
     "data": {
      "application/vnd.jupyter.widget-view+json": {
       "model_id": "ff496840f0f447ae97a54961cda1375c",
       "version_major": 2,
       "version_minor": 0
      },
      "text/plain": [
       "MetricVisualizer(layout=Layout(align_self='stretch', height='500px'))"
      ]
     },
     "metadata": {},
     "output_type": "display_data"
    },
    {
     "data": {
      "application/vnd.jupyter.widget-view+json": {
       "model_id": "745ca526b69a4da899b62cd483dbb403",
       "version_major": 2,
       "version_minor": 0
      },
      "text/plain": [
       "MetricVisualizer(layout=Layout(align_self='stretch', height='500px'))"
      ]
     },
     "metadata": {},
     "output_type": "display_data"
    },
    {
     "data": {
      "application/vnd.jupyter.widget-view+json": {
       "model_id": "5f4313f8641041c0b64ab7fb49eacbf9",
       "version_major": 2,
       "version_minor": 0
      },
      "text/plain": [
       "MetricVisualizer(layout=Layout(align_self='stretch', height='500px'))"
      ]
     },
     "metadata": {},
     "output_type": "display_data"
    },
    {
     "data": {
      "application/vnd.jupyter.widget-view+json": {
       "model_id": "7ec8f4951cf54e4b8e49a5707f9c01df",
       "version_major": 2,
       "version_minor": 0
      },
      "text/plain": [
       "MetricVisualizer(layout=Layout(align_self='stretch', height='500px'))"
      ]
     },
     "metadata": {},
     "output_type": "display_data"
    },
    {
     "name": "stdout",
     "output_type": "stream",
     "text": [
      "0.0\n"
     ]
    }
   ],
   "source": [
    "X_test, y_test = parser_groups_train(range(100, 130))\n",
    "pred = blending(range(1, 70), range(70,100), X_test)\n",
    "print(f1_score(y_test, pred))"
   ]
  },
  {
   "cell_type": "code",
   "execution_count": 122,
   "id": "06bddf4a",
   "metadata": {},
   "outputs": [],
   "source": [
    "X_train, y_train = parser_groups_train(range(1, 100))\n",
    "X_test, y_test = parser_groups_train(range(100, 130))\n",
    "\n",
    "f1 = X_train[:, :25]\n",
    "f2 = X_train[:, 25:50]\n",
    "f3 = X_train[:, 50]\n",
    "f3 = f3[:, np.newaxis]\n",
    "f4 = X_train[:, 51]\n",
    "f4 = f4[:, np.newaxis]\n",
    "\n",
    "f1_test = X_test[:, :25]\n",
    "f2_test = X_test[:, 25:50]\n",
    "f3_test = X_test[:, 50]\n",
    "f3_test = f3_test[:, np.newaxis]\n",
    "f4_test = X_test[:, 51]\n",
    "f4_test = f4_test[:, np.newaxis]"
   ]
  },
  {
   "cell_type": "code",
   "execution_count": 83,
   "id": "9dd3c7e7",
   "metadata": {},
   "outputs": [
    {
     "data": {
      "application/vnd.jupyter.widget-view+json": {
       "model_id": "a50b9f7df20d48ffb0618a0ec0952a59",
       "version_major": 2,
       "version_minor": 0
      },
      "text/plain": [
       "MetricVisualizer(layout=Layout(align_self='stretch', height='500px'))"
      ]
     },
     "metadata": {},
     "output_type": "display_data"
    },
    {
     "name": "stdout",
     "output_type": "stream",
     "text": [
      "0.7298245614035088\n"
     ]
    }
   ],
   "source": [
    "clf = CatBoostClassifier(loss_function='Logloss',\n",
    "                            depth=6,\n",
    "                            learning_rate=0.01,\n",
    "                            verbose=False, \n",
    "                            iterations=2000, \n",
    "                            leaf_estimation_method = 'Gradient',\n",
    "                            random_seed=42,\n",
    "                            custom_loss=['F1', 'Precision', 'Recall'])\n",
    "clf.fit(f1, y_train, plot=True)\n",
    "pred = clf.predict(f1_test)\n",
    "print(f1_score(y_test, pred))"
   ]
  },
  {
   "cell_type": "code",
   "execution_count": 118,
   "id": "189a50b5",
   "metadata": {},
   "outputs": [],
   "source": [
    "X_train, y_train = parser_groups_train(range(1, 100))\n",
    "X_test, y_test = parser_groups_train(range(100, 130))"
   ]
  },
  {
   "cell_type": "code",
   "execution_count": 126,
   "id": "e0ee65e6",
   "metadata": {},
   "outputs": [
    {
     "ename": "CatBoostError",
     "evalue": "C:/Program Files (x86)/Go Agent/pipelines/BuildMaster/catboost.git/catboost/private/libs/options/json_helper.h:171: Can't parse parameter \"auto_class_weights\" with value: true",
     "output_type": "error",
     "traceback": [
      "\u001b[1;31m---------------------------------------------------------------------------\u001b[0m",
      "\u001b[1;31mCatBoostError\u001b[0m                             Traceback (most recent call last)",
      "\u001b[1;32m~\\AppData\\Local\\Temp/ipykernel_12856/2140508852.py\u001b[0m in \u001b[0;36m<module>\u001b[1;34m\u001b[0m\n\u001b[0;32m      8\u001b[0m                             \u001b[0mcustom_loss\u001b[0m\u001b[1;33m=\u001b[0m\u001b[1;33m[\u001b[0m\u001b[1;34m'F1'\u001b[0m\u001b[1;33m,\u001b[0m \u001b[1;34m'Precision'\u001b[0m\u001b[1;33m,\u001b[0m \u001b[1;34m'Recall'\u001b[0m\u001b[1;33m]\u001b[0m\u001b[1;33m,\u001b[0m\u001b[1;33m\u001b[0m\u001b[1;33m\u001b[0m\u001b[0m\n\u001b[0;32m      9\u001b[0m                             auto_class_weights=True)\n\u001b[1;32m---> 10\u001b[1;33m \u001b[0mclf\u001b[0m\u001b[1;33m.\u001b[0m\u001b[0mfit\u001b[0m\u001b[1;33m(\u001b[0m\u001b[0mX_train\u001b[0m\u001b[1;33m,\u001b[0m \u001b[0my_train\u001b[0m\u001b[1;33m,\u001b[0m \u001b[0mplot\u001b[0m\u001b[1;33m=\u001b[0m\u001b[1;32mTrue\u001b[0m\u001b[1;33m)\u001b[0m\u001b[1;33m\u001b[0m\u001b[1;33m\u001b[0m\u001b[0m\n\u001b[0m\u001b[0;32m     11\u001b[0m \u001b[0mpred\u001b[0m \u001b[1;33m=\u001b[0m \u001b[0mclf\u001b[0m\u001b[1;33m.\u001b[0m\u001b[0mpredict\u001b[0m\u001b[1;33m(\u001b[0m\u001b[0mX_test\u001b[0m\u001b[1;33m)\u001b[0m\u001b[1;33m\u001b[0m\u001b[1;33m\u001b[0m\u001b[0m\n\u001b[0;32m     12\u001b[0m \u001b[0mprint\u001b[0m\u001b[1;33m(\u001b[0m\u001b[0mf1_score\u001b[0m\u001b[1;33m(\u001b[0m\u001b[0my_test\u001b[0m\u001b[1;33m,\u001b[0m \u001b[0mpred\u001b[0m\u001b[1;33m)\u001b[0m\u001b[1;33m)\u001b[0m\u001b[1;33m\u001b[0m\u001b[1;33m\u001b[0m\u001b[0m\n",
      "\u001b[1;32mc:\\programdata\\miniconda3\\lib\\site-packages\\catboost\\core.py\u001b[0m in \u001b[0;36mfit\u001b[1;34m(self, X, y, cat_features, text_features, embedding_features, sample_weight, baseline, use_best_model, eval_set, verbose, logging_level, plot, column_description, verbose_eval, metric_period, silent, early_stopping_rounds, save_snapshot, snapshot_file, snapshot_interval, init_model, callbacks, log_cout, log_cerr)\u001b[0m\n\u001b[0;32m   4766\u001b[0m             \u001b[0mCatBoostClassifier\u001b[0m\u001b[1;33m.\u001b[0m\u001b[0m_check_is_compatible_loss\u001b[0m\u001b[1;33m(\u001b[0m\u001b[0mparams\u001b[0m\u001b[1;33m[\u001b[0m\u001b[1;34m'loss_function'\u001b[0m\u001b[1;33m]\u001b[0m\u001b[1;33m)\u001b[0m\u001b[1;33m\u001b[0m\u001b[1;33m\u001b[0m\u001b[0m\n\u001b[0;32m   4767\u001b[0m \u001b[1;33m\u001b[0m\u001b[0m\n\u001b[1;32m-> 4768\u001b[1;33m         self._fit(X, y, cat_features, text_features, embedding_features, None, sample_weight, None, None, None, None, baseline, use_best_model,\n\u001b[0m\u001b[0;32m   4769\u001b[0m                   \u001b[0meval_set\u001b[0m\u001b[1;33m,\u001b[0m \u001b[0mverbose\u001b[0m\u001b[1;33m,\u001b[0m \u001b[0mlogging_level\u001b[0m\u001b[1;33m,\u001b[0m \u001b[0mplot\u001b[0m\u001b[1;33m,\u001b[0m \u001b[0mcolumn_description\u001b[0m\u001b[1;33m,\u001b[0m \u001b[0mverbose_eval\u001b[0m\u001b[1;33m,\u001b[0m \u001b[0mmetric_period\u001b[0m\u001b[1;33m,\u001b[0m\u001b[1;33m\u001b[0m\u001b[1;33m\u001b[0m\u001b[0m\n\u001b[0;32m   4770\u001b[0m                   silent, early_stopping_rounds, save_snapshot, snapshot_file, snapshot_interval, init_model, callbacks, log_cout, log_cerr)\n",
      "\u001b[1;32mc:\\programdata\\miniconda3\\lib\\site-packages\\catboost\\core.py\u001b[0m in \u001b[0;36m_fit\u001b[1;34m(self, X, y, cat_features, text_features, embedding_features, pairs, sample_weight, group_id, group_weight, subgroup_id, pairs_weight, baseline, use_best_model, eval_set, verbose, logging_level, plot, column_description, verbose_eval, metric_period, silent, early_stopping_rounds, save_snapshot, snapshot_file, snapshot_interval, init_model, callbacks, log_cout, log_cerr)\u001b[0m\n\u001b[0;32m   2071\u001b[0m             \u001b[1;32mraise\u001b[0m \u001b[0mCatBoostError\u001b[0m\u001b[1;33m(\u001b[0m\u001b[1;34m\"y may be None only when X is an instance of catboost.Pool or string\"\u001b[0m\u001b[1;33m)\u001b[0m\u001b[1;33m\u001b[0m\u001b[1;33m\u001b[0m\u001b[0m\n\u001b[0;32m   2072\u001b[0m \u001b[1;33m\u001b[0m\u001b[0m\n\u001b[1;32m-> 2073\u001b[1;33m         train_params = self._prepare_train_params(\n\u001b[0m\u001b[0;32m   2074\u001b[0m             \u001b[0mX\u001b[0m\u001b[1;33m=\u001b[0m\u001b[0mX\u001b[0m\u001b[1;33m,\u001b[0m \u001b[0my\u001b[0m\u001b[1;33m=\u001b[0m\u001b[0my\u001b[0m\u001b[1;33m,\u001b[0m \u001b[0mcat_features\u001b[0m\u001b[1;33m=\u001b[0m\u001b[0mcat_features\u001b[0m\u001b[1;33m,\u001b[0m \u001b[0mtext_features\u001b[0m\u001b[1;33m=\u001b[0m\u001b[0mtext_features\u001b[0m\u001b[1;33m,\u001b[0m \u001b[0membedding_features\u001b[0m\u001b[1;33m=\u001b[0m\u001b[0membedding_features\u001b[0m\u001b[1;33m,\u001b[0m\u001b[1;33m\u001b[0m\u001b[1;33m\u001b[0m\u001b[0m\n\u001b[0;32m   2075\u001b[0m             \u001b[0mpairs\u001b[0m\u001b[1;33m=\u001b[0m\u001b[0mpairs\u001b[0m\u001b[1;33m,\u001b[0m \u001b[0msample_weight\u001b[0m\u001b[1;33m=\u001b[0m\u001b[0msample_weight\u001b[0m\u001b[1;33m,\u001b[0m \u001b[0mgroup_id\u001b[0m\u001b[1;33m=\u001b[0m\u001b[0mgroup_id\u001b[0m\u001b[1;33m,\u001b[0m \u001b[0mgroup_weight\u001b[0m\u001b[1;33m=\u001b[0m\u001b[0mgroup_weight\u001b[0m\u001b[1;33m,\u001b[0m\u001b[1;33m\u001b[0m\u001b[1;33m\u001b[0m\u001b[0m\n",
      "\u001b[1;32mc:\\programdata\\miniconda3\\lib\\site-packages\\catboost\\core.py\u001b[0m in \u001b[0;36m_prepare_train_params\u001b[1;34m(self, X, y, cat_features, text_features, embedding_features, pairs, sample_weight, group_id, group_weight, subgroup_id, pairs_weight, baseline, use_best_model, eval_set, verbose, logging_level, plot, column_description, verbose_eval, metric_period, silent, early_stopping_rounds, save_snapshot, snapshot_file, snapshot_interval, init_model, callbacks)\u001b[0m\n\u001b[0;32m   2003\u001b[0m         \u001b[0m_check_param_types\u001b[0m\u001b[1;33m(\u001b[0m\u001b[0mparams\u001b[0m\u001b[1;33m)\u001b[0m\u001b[1;33m\u001b[0m\u001b[1;33m\u001b[0m\u001b[0m\n\u001b[0;32m   2004\u001b[0m         \u001b[0mparams\u001b[0m \u001b[1;33m=\u001b[0m \u001b[0m_params_type_cast\u001b[0m\u001b[1;33m(\u001b[0m\u001b[0mparams\u001b[0m\u001b[1;33m)\u001b[0m\u001b[1;33m\u001b[0m\u001b[1;33m\u001b[0m\u001b[0m\n\u001b[1;32m-> 2005\u001b[1;33m         \u001b[0m_check_train_params\u001b[0m\u001b[1;33m(\u001b[0m\u001b[0mparams\u001b[0m\u001b[1;33m)\u001b[0m\u001b[1;33m\u001b[0m\u001b[1;33m\u001b[0m\u001b[0m\n\u001b[0m\u001b[0;32m   2006\u001b[0m \u001b[1;33m\u001b[0m\u001b[0m\n\u001b[0;32m   2007\u001b[0m         \u001b[0meval_set_list\u001b[0m \u001b[1;33m=\u001b[0m \u001b[0meval_set\u001b[0m \u001b[1;32mif\u001b[0m \u001b[0misinstance\u001b[0m\u001b[1;33m(\u001b[0m\u001b[0meval_set\u001b[0m\u001b[1;33m,\u001b[0m \u001b[0mlist\u001b[0m\u001b[1;33m)\u001b[0m \u001b[1;32melse\u001b[0m \u001b[1;33m[\u001b[0m\u001b[0meval_set\u001b[0m\u001b[1;33m]\u001b[0m\u001b[1;33m\u001b[0m\u001b[1;33m\u001b[0m\u001b[0m\n",
      "\u001b[1;32m_catboost.pyx\u001b[0m in \u001b[0;36m_catboost._check_train_params\u001b[1;34m()\u001b[0m\n",
      "\u001b[1;32m_catboost.pyx\u001b[0m in \u001b[0;36m_catboost._check_train_params\u001b[1;34m()\u001b[0m\n",
      "\u001b[1;31mCatBoostError\u001b[0m: C:/Program Files (x86)/Go Agent/pipelines/BuildMaster/catboost.git/catboost/private/libs/options/json_helper.h:171: Can't parse parameter \"auto_class_weights\" with value: true"
     ]
    }
   ],
   "source": [
    "clf = CatBoostClassifier(loss_function='Logloss',\n",
    "                            depth=6,\n",
    "                            learning_rate=0.01,\n",
    "                            verbose=False, \n",
    "                            iterations=2000, \n",
    "                            leaf_estimation_method = 'Gradient',\n",
    "                            random_seed=42,\n",
    "                            custom_loss=['F1', 'Precision', 'Recall'],\n",
    "                            auto_class_weights=True)\n",
    "clf.fit(X_train, y_train, plot=True)\n",
    "pred = clf.predict(X_test)\n",
    "print(f1_score(y_test, pred))"
   ]
  },
  {
   "cell_type": "code",
   "execution_count": 127,
   "id": "d9dd9a53",
   "metadata": {},
   "outputs": [
    {
     "data": {
      "application/vnd.jupyter.widget-view+json": {
       "model_id": "22264d501b96428f80656dca34dbd949",
       "version_major": 2,
       "version_minor": 0
      },
      "text/plain": [
       "MetricVisualizer(layout=Layout(align_self='stretch', height='500px'))"
      ]
     },
     "metadata": {},
     "output_type": "display_data"
    },
    {
     "name": "stdout",
     "output_type": "stream",
     "text": [
      "0.770909090909091\n"
     ]
    }
   ],
   "source": [
    "clf = CatBoostClassifier(loss_function='Logloss',\n",
    "                            depth=6,\n",
    "                            learning_rate=0.01,\n",
    "                            verbose=False, \n",
    "                            iterations=2000, \n",
    "                            leaf_estimation_method = 'Gradient',\n",
    "                            random_seed=42,\n",
    "                            custom_loss=['F1', 'Precision', 'Recall'],\n",
    "                            class_weights={0:1, 1:2} )\n",
    "clf.fit(X_train, y_train, plot=True)\n",
    "pred = clf.predict(X_test)\n",
    "print(f1_score(y_test, pred))"
   ]
  },
  {
   "cell_type": "code",
   "execution_count": 120,
   "id": "8bfe32d0",
   "metadata": {},
   "outputs": [
    {
     "data": {
      "text/plain": [
       "array([ 3.68159245,  4.06617053,  2.50132273,  2.19584047,  2.03655221,\n",
       "        2.57305031,  2.27360031,  1.29372547,  1.80729104,  1.0534181 ,\n",
       "        1.05832378,  1.37285402,  1.22808638,  1.31806747,  1.00868763,\n",
       "        1.14841526,  0.96137077,  0.82706072,  0.9651461 ,  0.98057886,\n",
       "        0.83295921,  0.95644518,  1.23497481,  1.25269589,  1.91211082,\n",
       "        3.7288209 ,  3.58641981,  2.52202696,  2.25139676,  1.85238925,\n",
       "        1.21521895,  1.67365435,  1.84845696,  1.16046424,  1.37909998,\n",
       "        1.08188744,  1.29205783,  0.77260698,  1.05761168,  0.96455056,\n",
       "        1.09929273,  1.07677441,  0.87144014,  0.90129806,  0.93983977,\n",
       "        0.90582779,  0.8337846 ,  1.01950317,  1.2881421 ,  1.77633008,\n",
       "        6.54561047, 15.81515349])"
      ]
     },
     "execution_count": 120,
     "metadata": {},
     "output_type": "execute_result"
    }
   ],
   "source": [
    "clf.feature_importances_"
   ]
  },
  {
   "cell_type": "code",
   "execution_count": 84,
   "id": "5e186423",
   "metadata": {},
   "outputs": [
    {
     "data": {
      "application/vnd.jupyter.widget-view+json": {
       "model_id": "fca71d8fb26b4c949b5af4b3eb936421",
       "version_major": 2,
       "version_minor": 0
      },
      "text/plain": [
       "MetricVisualizer(layout=Layout(align_self='stretch', height='500px'))"
      ]
     },
     "metadata": {},
     "output_type": "display_data"
    },
    {
     "name": "stdout",
     "output_type": "stream",
     "text": [
      "0.3098842386464827\n"
     ]
    }
   ],
   "source": [
    "clf = CatBoostClassifier(loss_function='Logloss',\n",
    "                            depth=6,\n",
    "                            learning_rate=0.01,\n",
    "                            verbose=False, \n",
    "                            iterations=2000, \n",
    "                            leaf_estimation_method = 'Gradient',\n",
    "                            random_seed=42,\n",
    "                            custom_loss=['F1', 'Precision', 'Recall'],\n",
    "                            class_weights={1:2})\n",
    "clf.fit(f2, y_train, plot=True)\n",
    "pred = clf.predict(f2_test)\n",
    "print(f1_score(y_test, pred))"
   ]
  },
  {
   "cell_type": "code",
   "execution_count": 86,
   "id": "464b043e",
   "metadata": {},
   "outputs": [
    {
     "data": {
      "application/vnd.jupyter.widget-view+json": {
       "model_id": "1a53de918d6f4df5ae94737ae50fc141",
       "version_major": 2,
       "version_minor": 0
      },
      "text/plain": [
       "MetricVisualizer(layout=Layout(align_self='stretch', height='500px'))"
      ]
     },
     "metadata": {},
     "output_type": "display_data"
    },
    {
     "name": "stdout",
     "output_type": "stream",
     "text": [
      "0.2231543624161074\n"
     ]
    }
   ],
   "source": [
    "clf = CatBoostClassifier(loss_function='Logloss',\n",
    "                            depth=6,\n",
    "                            learning_rate=0.01,\n",
    "                            verbose=False, \n",
    "                            iterations=2000, \n",
    "                            leaf_estimation_method = 'Gradient',\n",
    "                            random_seed=42,\n",
    "                            custom_loss=['F1', 'Precision', 'Recall'])\n",
    "clf.fit(f4, y_train, plot=True)\n",
    "pred = clf.predict(f4_test)\n",
    "print(f1_score(y_test, pred))"
   ]
  },
  {
   "cell_type": "code",
   "execution_count": 123,
   "id": "e82d1315",
   "metadata": {},
   "outputs": [
    {
     "data": {
      "application/vnd.jupyter.widget-view+json": {
       "model_id": "e1dd6c54a8514ba580682cb086728aa9",
       "version_major": 2,
       "version_minor": 0
      },
      "text/plain": [
       "MetricVisualizer(layout=Layout(align_self='stretch', height='500px'))"
      ]
     },
     "metadata": {},
     "output_type": "display_data"
    },
    {
     "name": "stdout",
     "output_type": "stream",
     "text": [
      "0.31060606060606055\n"
     ]
    }
   ],
   "source": [
    "clf = CatBoostClassifier(loss_function='Logloss',\n",
    "                            depth=6,\n",
    "                            learning_rate=0.01,\n",
    "                            verbose=False, \n",
    "                            iterations=2000, \n",
    "                            leaf_estimation_method = 'Gradient',\n",
    "                            random_seed=42,\n",
    "                            custom_loss=['F1', 'Precision', 'Recall'])\n",
    "f34 = np.concatenate((f3, f4), axis=1)\n",
    "f34_test = np.concatenate((f3_test, f4_test), axis=1)\n",
    "clf.fit(f34, y_train, plot=True)\n",
    "pred = clf.predict(f34_test)\n",
    "print(f1_score(y_test, pred))"
   ]
  },
  {
   "cell_type": "code",
   "execution_count": 88,
   "id": "b6eec34a",
   "metadata": {},
   "outputs": [
    {
     "data": {
      "application/vnd.jupyter.widget-view+json": {
       "model_id": "2b15929cb20f466ebc4271209c467d9b",
       "version_major": 2,
       "version_minor": 0
      },
      "text/plain": [
       "MetricVisualizer(layout=Layout(align_self='stretch', height='500px'))"
      ]
     },
     "metadata": {},
     "output_type": "display_data"
    },
    {
     "name": "stdout",
     "output_type": "stream",
     "text": [
      "0.7428571428571429\n"
     ]
    }
   ],
   "source": [
    "clf = CatBoostClassifier(loss_function='Logloss',\n",
    "                            depth=6,\n",
    "                            learning_rate=0.01,\n",
    "                            verbose=False, \n",
    "                            iterations=2000, \n",
    "                            leaf_estimation_method = 'Gradient',\n",
    "                            random_seed=42,\n",
    "                            custom_loss=['F1', 'Precision', 'Recall'])\n",
    "f13 = np.concatenate((f1, f3), axis=1)\n",
    "f13_test = np.concatenate((f1_test, f3_test), axis=1)\n",
    "clf.fit(f13, y_train, plot=True)\n",
    "pred = clf.predict(f13_test)\n",
    "print(f1_score(y_test, pred))"
   ]
  },
  {
   "cell_type": "code",
   "execution_count": 89,
   "id": "2f65c87a",
   "metadata": {},
   "outputs": [
    {
     "data": {
      "application/vnd.jupyter.widget-view+json": {
       "model_id": "8b93db7b2aca45868c0f5e5e9f51a198",
       "version_major": 2,
       "version_minor": 0
      },
      "text/plain": [
       "MetricVisualizer(layout=Layout(align_self='stretch', height='500px'))"
      ]
     },
     "metadata": {},
     "output_type": "display_data"
    },
    {
     "name": "stdout",
     "output_type": "stream",
     "text": [
      "0.7309048178613395\n"
     ]
    }
   ],
   "source": [
    "clf = CatBoostClassifier(loss_function='Logloss',\n",
    "                            depth=6,\n",
    "                            learning_rate=0.01,\n",
    "                            verbose=False, \n",
    "                            iterations=2000, \n",
    "                            leaf_estimation_method = 'Gradient',\n",
    "                            random_seed=42,\n",
    "                            custom_loss=['F1', 'Precision', 'Recall'])\n",
    "f14 = np.concatenate((f1, f4), axis=1)\n",
    "f14_test = np.concatenate((f1_test, f4_test), axis=1)\n",
    "clf.fit(f14, y_train, plot=True)\n",
    "pred = clf.predict(f14_test)\n",
    "print(f1_score(y_test, pred))"
   ]
  },
  {
   "cell_type": "code",
   "execution_count": 91,
   "id": "d340c0e4",
   "metadata": {},
   "outputs": [
    {
     "data": {
      "application/vnd.jupyter.widget-view+json": {
       "model_id": "27a30ad31fea419286a91170c968149e",
       "version_major": 2,
       "version_minor": 0
      },
      "text/plain": [
       "MetricVisualizer(layout=Layout(align_self='stretch', height='500px'))"
      ]
     },
     "metadata": {},
     "output_type": "display_data"
    },
    {
     "name": "stdout",
     "output_type": "stream",
     "text": [
      "0.6391625615763546\n"
     ]
    }
   ],
   "source": [
    "clf = CatBoostClassifier(loss_function='Logloss',\n",
    "                            depth=6,\n",
    "                            learning_rate=0.01,\n",
    "                            verbose=False, \n",
    "                            iterations=2000, \n",
    "                            leaf_estimation_method = 'Gradient',\n",
    "                            random_seed=42,\n",
    "                            custom_loss=['F1', 'Precision', 'Recall'])\n",
    "f24 = np.concatenate((f2, f4), axis=1)\n",
    "f24_test = np.concatenate((f2_test, f4_test), axis=1)\n",
    "clf.fit(f24, y_train, plot=True)\n",
    "pred = clf.predict(f24_test)\n",
    "print(f1_score(y_test, pred))"
   ]
  },
  {
   "cell_type": "code",
   "execution_count": 92,
   "id": "bdcb9573",
   "metadata": {},
   "outputs": [
    {
     "data": {
      "application/vnd.jupyter.widget-view+json": {
       "model_id": "4779ebe6598a457db385089c5758661e",
       "version_major": 2,
       "version_minor": 0
      },
      "text/plain": [
       "MetricVisualizer(layout=Layout(align_self='stretch', height='500px'))"
      ]
     },
     "metadata": {},
     "output_type": "display_data"
    },
    {
     "name": "stdout",
     "output_type": "stream",
     "text": [
      "0.7448194197750148\n"
     ]
    }
   ],
   "source": [
    "clf = CatBoostClassifier(loss_function='Logloss',\n",
    "                            depth=6,\n",
    "                            learning_rate=0.01,\n",
    "                            verbose=False, \n",
    "                            iterations=2000, \n",
    "                            leaf_estimation_method = 'Gradient',\n",
    "                            random_seed=42,\n",
    "                            custom_loss=['F1', 'Precision', 'Recall'])\n",
    "f124 = np.concatenate((f1, f2, f4), axis=1)\n",
    "f124_test = np.concatenate((f1_test, f2_test, f4_test), axis=1)\n",
    "clf.fit(f124, y_train, plot=True)\n",
    "pred = clf.predict(f124_test)\n",
    "print(f1_score(y_test, pred))"
   ]
  },
  {
   "cell_type": "code",
   "execution_count": 93,
   "id": "1031408d",
   "metadata": {},
   "outputs": [
    {
     "data": {
      "application/vnd.jupyter.widget-view+json": {
       "model_id": "02427bd756b149ec8e4a24c9d0869b6d",
       "version_major": 2,
       "version_minor": 0
      },
      "text/plain": [
       "MetricVisualizer(layout=Layout(align_self='stretch', height='500px'))"
      ]
     },
     "metadata": {},
     "output_type": "display_data"
    },
    {
     "name": "stdout",
     "output_type": "stream",
     "text": [
      "0.7530936947554507\n"
     ]
    }
   ],
   "source": [
    "my_clf = CatBoostClassifier(loss_function='Logloss',\n",
    "                            depth=6,\n",
    "                            learning_rate=0.01,\n",
    "                            verbose=False, \n",
    "                            iterations=2000, \n",
    "                            leaf_estimation_method = 'Gradient',\n",
    "                            random_seed=42,\n",
    "                            custom_loss=['F1', 'Precision', 'Recall'])\n",
    "my_clf.fit(X_train, y_train, plot=True)\n",
    "pred = my_clf.predict(X_test)\n",
    "print(f1_score(y_test, pred))"
   ]
  },
  {
   "cell_type": "code",
   "execution_count": 158,
   "id": "0aff9778",
   "metadata": {},
   "outputs": [
    {
     "data": {
      "application/vnd.jupyter.widget-view+json": {
       "model_id": "47bf4af35b2f49039ffa613a96c72a94",
       "version_major": 2,
       "version_minor": 0
      },
      "text/plain": [
       "MetricVisualizer(layout=Layout(align_self='stretch', height='500px'))"
      ]
     },
     "metadata": {},
     "output_type": "display_data"
    },
    {
     "name": "stdout",
     "output_type": "stream",
     "text": [
      "0.7610099823840282\n"
     ]
    }
   ],
   "source": [
    "X_train, y_train = parser_groups_train_2(range(1, 100)) #12\n",
    "X_test, y_test = parser_groups_train_2(range(100, 130))\n",
    "\n",
    "my_clf = CatBoostClassifier(loss_function='Logloss',\n",
    "                            depth=6,\n",
    "                            learning_rate=0.01,\n",
    "                            verbose=False, \n",
    "                            iterations=2000, \n",
    "                            leaf_estimation_method = 'Gradient',\n",
    "                            random_seed=42,\n",
    "                            custom_loss=['F1', 'Precision', 'Recall'])\n",
    "my_clf.fit(X_train, y_train, plot=True)\n",
    "pred = my_clf.predict(X_test)\n",
    "print(f1_score(y_test, pred))"
   ]
  },
  {
   "cell_type": "code",
   "execution_count": 160,
   "id": "5c205b28",
   "metadata": {},
   "outputs": [
    {
     "data": {
      "application/vnd.jupyter.widget-view+json": {
       "model_id": "2ca9f45e19d64a06911f16770d16529c",
       "version_major": 2,
       "version_minor": 0
      },
      "text/plain": [
       "MetricVisualizer(layout=Layout(align_self='stretch', height='500px'))"
      ]
     },
     "metadata": {},
     "output_type": "display_data"
    },
    {
     "name": "stdout",
     "output_type": "stream",
     "text": [
      "0.7627416520210897\n"
     ]
    }
   ],
   "source": [
    "X_train, y_train = parser_groups_train_2(range(1, 100)) #14\n",
    "X_test, y_test = parser_groups_train_2(range(100, 130))\n",
    "\n",
    "my_clf = CatBoostClassifier(loss_function='Logloss',\n",
    "                            depth=6,\n",
    "                            learning_rate=0.01,\n",
    "                            verbose=False, \n",
    "                            iterations=2000, \n",
    "                            leaf_estimation_method = 'Gradient',\n",
    "                            random_seed=42,\n",
    "                            custom_loss=['F1', 'Precision', 'Recall'])\n",
    "my_clf.fit(X_train, y_train, plot=True)\n",
    "pred = my_clf.predict(X_test)\n",
    "print(f1_score(y_test, pred))"
   ]
  },
  {
   "cell_type": "code",
   "execution_count": 166,
   "id": "cee406c9",
   "metadata": {},
   "outputs": [],
   "source": [
    "X_train, y_train = parser_groups_train_2(range(1, 100)) #14\n",
    "X_test, y_test = parser_groups_train_2(range(100, 130))"
   ]
  },
  {
   "cell_type": "code",
   "execution_count": 172,
   "id": "2040526a",
   "metadata": {},
   "outputs": [
    {
     "data": {
      "application/vnd.jupyter.widget-view+json": {
       "model_id": "b76796dd1dd84203b6e69916770f1c85",
       "version_major": 2,
       "version_minor": 0
      },
      "text/plain": [
       "MetricVisualizer(layout=Layout(align_self='stretch', height='500px'))"
      ]
     },
     "metadata": {},
     "output_type": "display_data"
    },
    {
     "name": "stdout",
     "output_type": "stream",
     "text": [
      "0.7638483965014577\n"
     ]
    }
   ],
   "source": [
    "my_clf = CatBoostClassifier(loss_function='Logloss',\n",
    "                            depth=6,\n",
    "                            learning_rate=0.01,\n",
    "                            verbose=False, \n",
    "                            iterations=3000, \n",
    "                            leaf_estimation_method = 'Gradient',\n",
    "                            random_seed=42,\n",
    "                            custom_loss=['F1', 'Precision', 'Recall'])\n",
    "my_clf.fit(X_train, y_train, plot=True)\n",
    "pred = my_clf.predict(X_test)\n",
    "print(f1_score(y_test, pred))"
   ]
  },
  {
   "cell_type": "code",
   "execution_count": 140,
   "id": "0d1f974a",
   "metadata": {},
   "outputs": [
    {
     "data": {
      "application/vnd.jupyter.widget-view+json": {
       "model_id": "c8bb0bbfb6714ad6828e5d653f5f5500",
       "version_major": 2,
       "version_minor": 0
      },
      "text/plain": [
       "MetricVisualizer(layout=Layout(align_self='stretch', height='500px'))"
      ]
     },
     "metadata": {},
     "output_type": "display_data"
    },
    {
     "name": "stdout",
     "output_type": "stream",
     "text": [
      "0.116\n"
     ]
    }
   ],
   "source": [
    "f5 = X_train[:,54]\n",
    "f5 = f5[:, np.newaxis]\n",
    "\n",
    "f5_test = X_test[:,54]\n",
    "f5_test = f5_test[:, np.newaxis]\n",
    "\n",
    "my_clf.fit(f5, y_train, plot=True)\n",
    "pred = my_clf.predict(f5_test)\n",
    "print(f1_score(y_test, pred))"
   ]
  },
  {
   "cell_type": "code",
   "execution_count": 85,
   "id": "ff92c33b",
   "metadata": {},
   "outputs": [
    {
     "data": {
      "application/vnd.jupyter.widget-view+json": {
       "model_id": "6eb2e45dbcfc440cb7eec35a53d5c9e6",
       "version_major": 2,
       "version_minor": 0
      },
      "text/plain": [
       "MetricVisualizer(layout=Layout(align_self='stretch', height='500px'))"
      ]
     },
     "metadata": {},
     "output_type": "display_data"
    },
    {
     "name": "stdout",
     "output_type": "stream",
     "text": [
      "0.006493506493506494\n"
     ]
    }
   ],
   "source": [
    "clf = CatBoostClassifier(loss_function='Logloss',\n",
    "                            depth=6,\n",
    "                            learning_rate=0.01,\n",
    "                            verbose=False, \n",
    "                            iterations=2000, \n",
    "                            leaf_estimation_method = 'Gradient',\n",
    "                            random_seed=42,\n",
    "                            custom_loss=['F1', 'Precision', 'Recall'])\n",
    "clf.fit(f3, y_train, plot=True)\n",
    "pred = clf.predict(f3_test)\n",
    "print(f1_score(y_test, pred))"
   ]
  },
  {
   "cell_type": "code",
   "execution_count": 99,
   "id": "9cc44a8c",
   "metadata": {},
   "outputs": [],
   "source": [
    "X_train, y_train = parser_groups_train(range(1, 100))\n",
    "X_test, y_test = parser_groups_train(range(100, 130))\n",
    "from sklearn.decomposition import PCA\n",
    "pca = PCA(2)\n",
    "pca_train = pca.fit_transform(X_train)\n",
    "pca_test = pca.fit_transform(X_test)"
   ]
  },
  {
   "cell_type": "code",
   "execution_count": 100,
   "id": "68e81439",
   "metadata": {},
   "outputs": [
    {
     "name": "stdout",
     "output_type": "stream",
     "text": [
      "0.5638906547997458\n"
     ]
    }
   ],
   "source": [
    "clf = SGDClassifier()\n",
    "clf.fit(pca_train, y_train)\n",
    "pred = clf.predict(pca_test)\n",
    "print(f1_score(pred, y_test))"
   ]
  },
  {
   "cell_type": "code",
   "execution_count": null,
   "id": "f6070c4c",
   "metadata": {},
   "outputs": [],
   "source": []
  },
  {
   "cell_type": "code",
   "execution_count": 120,
   "id": "827155d0",
   "metadata": {},
   "outputs": [
    {
     "data": {
      "text/plain": [
       "<seaborn.axisgrid.PairGrid at 0x20e662db730>"
      ]
     },
     "execution_count": 120,
     "metadata": {},
     "output_type": "execute_result"
    },
    {
     "data": {
      "image/png": "[encoded data removed]",
      "text/plain": [
       "<Figure size 412x360 with 6 Axes>"
      ]
     },
     "metadata": {
      "needs_background": "light"
     },
     "output_type": "display_data"
    }
   ],
   "source": [
    "df = pd.DataFrame(np.concatenate((pca_train, (y_train[:, np.newaxis]).astype('int')), axis=1))\n",
    "sns.pairplot(df, hue=2)"
   ]
  },
  {
   "cell_type": "code",
   "execution_count": 122,
   "id": "e002e317",
   "metadata": {},
   "outputs": [
    {
     "name": "stdout",
     "output_type": "stream",
     "text": [
      "0.7246550689862027\n"
     ]
    }
   ],
   "source": [
    "from sklearn.ensemble import RandomForestClassifier\n",
    "clf = RandomForestClassifier()\n",
    "clf.fit(X_train, y_train)\n",
    "pred = clf.predict(X_test)\n",
    "print(f1_score(pred, y_test))"
   ]
  },
  {
   "cell_type": "code",
   "execution_count": 126,
   "id": "6a010a33",
   "metadata": {},
   "outputs": [
    {
     "name": "stdout",
     "output_type": "stream",
     "text": [
      "0.8136903170002573\n",
      "0.8304634625233644\n",
      "0.8304623838273261\n",
      "0.8303488895941507\n",
      "0.8329560593939286\n",
      "0.8342020303679133\n",
      "0.8331820076890994\n",
      "0.830462075628458\n",
      "0.835788406991707\n",
      "0.8293293677384975\n",
      "0.8314820212575545\n",
      "0.8304627690759112\n",
      "0.8295547766856494\n",
      "0.83567599145457\n",
      "0.8331828167111283\n"
     ]
    }
   ],
   "source": [
    "acc = []\n",
    "for i in range(10, 300, 20):\n",
    "    preds = 0\n",
    "    my_clf = GradientBoostingClassifier(n_estimators=i)\n",
    "    for ind_train, ind_test in kfold.split(X_train, y_train):\n",
    "        X_train_, X_test_, y_train_, y_test_ = X_train[ind_train], X_train[ind_test], y_train[ind_train], y_train[ind_test]\n",
    "        my_clf.fit(X_train_, y_train_)\n",
    "        preds += accuracy_score(y_pred=my_clf.predict(X_test_), y_true=y_test_)\n",
    "    acc.append(preds / 3)\n",
    "    print(preds / 3)"
   ]
  },
  {
   "cell_type": "code",
   "execution_count": 130,
   "id": "e964a759",
   "metadata": {},
   "outputs": [
    {
     "name": "stdout",
     "output_type": "stream",
     "text": [
      "[10, 30, 50, 70, 90, 110, 130, 150, 170, 190, 210, 230, 250, 270, 290]\n"
     ]
    }
   ],
   "source": [
    "print(list(range(10, 300, 20)))"
   ]
  },
  {
   "cell_type": "code",
   "execution_count": 135,
   "id": "d1037707",
   "metadata": {},
   "outputs": [
    {
     "name": "stdout",
     "output_type": "stream",
     "text": [
      "0.6815924428837453\n",
      "0.6830748790935645\n",
      "[0.8306897190174034, 0.8320485678268273]\n",
      "2.0492246372806933\n",
      "deviance\n"
     ]
    }
   ],
   "source": [
    "acc = []\n",
    "f1_s = []\n",
    "loss = ['deviance', 'exponential']\n",
    "for i in loss:\n",
    "    preds = 0\n",
    "    f1 = 0\n",
    "    my_clf = GradientBoostingClassifier(n_estimators=170, loss=i)\n",
    "    for ind_train, ind_test in kfold.split(X_train, y_train):\n",
    "        X_train_, X_test_, y_train_, y_test_ = X_train[ind_train], X_train[ind_test], y_train[ind_train], y_train[ind_test]\n",
    "        my_clf.fit(X_train_, y_train_)\n",
    "        pred = my_clf.predict(X_test_)\n",
    "        preds += accuracy_score(y_pred=pred, y_true=y_test_)\n",
    "        f1 += f1_score(y_test_, pred)\n",
    "    acc.append(preds / 3)\n",
    "    f1_s.append(f1/3)\n",
    "    print(f1/3)\n",
    "print(acc)\n",
    "print(f1)\n",
    "best_loss = loss[np.argmax(f1)]\n",
    "print(best_loss)"
   ]
  },
  {
   "cell_type": "code",
   "execution_count": 137,
   "id": "eb520dea",
   "metadata": {},
   "outputs": [
    {
     "name": "stdout",
     "output_type": "stream",
     "text": [
      "0.6774643416887886\n",
      "0.8291031112444586\n"
     ]
    }
   ],
   "source": [
    "preds = 0\n",
    "f1 = 0\n",
    "my_clf = GradientBoostingClassifier(n_estimators=170)\n",
    "for ind_train, ind_test in kfold.split(X_train, y_train):\n",
    "    X_train_, X_test_, y_train_, y_test_ = X_train[ind_train], X_train[ind_test], y_train[ind_train], y_train[ind_test]\n",
    "    my_clf.fit(X_train_, y_train_)\n",
    "    pred = my_clf.predict(X_test_)\n",
    "    preds += accuracy_score(y_pred=pred, y_true=y_test_)\n",
    "    f1 += f1_score(y_test_, pred)\n",
    "print(f1/3)\n",
    "print(preds/3)"
   ]
  },
  {
   "cell_type": "code",
   "execution_count": 139,
   "id": "60a60afc",
   "metadata": {},
   "outputs": [
    {
     "name": "stdout",
     "output_type": "stream",
     "text": [
      "[0.7233697108162316, 0.7958972258480536, 0.8295565103042825, 0.8319358055659638, 0.8343152934519376, 0.831595592540447, 0.8285365646751858]\n",
      "[0.0, 0.4534568656008941, 0.6628114612087938, 0.6854917808743365, 0.6870409407846347, 0.68051333429944, 0.6719543235622942]\n",
      "Лучший learning_rate = 0.1\n"
     ]
    }
   ],
   "source": [
    "acc = []\n",
    "f1 = []\n",
    "learning_rate = [0.001, 0.005, 0.01, 0.05, 0.1, 0.2, 0.3]\n",
    "for lr in learning_rate:\n",
    "    preds = 0\n",
    "    f = 0\n",
    "    my_clf = GradientBoostingClassifier(n_estimators=170, loss='exponential', learning_rate=lr)\n",
    "    for ind_train, ind_test in kfold.split(X_train, y_train):\n",
    "        X_train_, X_test_, y_train_, y_test_ = X_train[ind_train], X_train[ind_test], y_train[ind_train], y_train[ind_test]\n",
    "        my_clf.fit(X_train_, y_train_)\n",
    "        pred = my_clf.predict(X_test_)\n",
    "        preds += accuracy_score(y_pred=pred, y_true=y_test_)\n",
    "        f += f1_score(y_test_, pred)\n",
    "    acc.append(preds / 3)\n",
    "    f1.append(f/3)\n",
    "print(acc)\n",
    "print(f1)\n",
    "best_lr = learning_rate[np.argmax(f1)]\n",
    "print('Лучший learning_rate =', best_lr)"
   ]
  },
  {
   "cell_type": "code",
   "execution_count": 140,
   "id": "f5bfe37a",
   "metadata": {},
   "outputs": [
    {
     "name": "stdout",
     "output_type": "stream",
     "text": [
      "0.67099909069933\n",
      "0.6757312065299973\n",
      "0.6735076298085801\n",
      "0.6814471028932229\n",
      "0.6801710352574449\n",
      "0.6865750304173991\n",
      "0.6844950168455003\n",
      "0.6859248218385771\n",
      "0.6806388260996762\n",
      "0.6862481040718568\n",
      "[0.8246820370065168, 0.8264946701243497, 0.8274023157908849, 0.8311413844585944, 0.8305755313367748, 0.833975311575572, 0.8329553659464753, 0.8337488624572402, 0.8306884091722141, 0.833749594429552]\n",
      "[0.67099909069933, 0.6757312065299973, 0.6735076298085801, 0.6814471028932229, 0.6801710352574449, 0.6865750304173991, 0.6844950168455003, 0.6859248218385771, 0.6806388260996762, 0.6862481040718568]\n",
      "Лучший subsample  = 0.2\n"
     ]
    }
   ],
   "source": [
    "acc = []\n",
    "f1 = []\n",
    "percent = np.arange(0.1, 1.1, 0.1)\n",
    "for p in percent:\n",
    "    preds = 0\n",
    "    f = 0\n",
    "    my_clf = GradientBoostingClassifier(n_estimators=170, loss='exponential', learning_rate=0.1, subsample=p)\n",
    "    for ind_train, ind_test in kfold.split(X_train, y_train):\n",
    "        X_train_, X_test_, y_train_, y_test_ = X_train[ind_train], X_train[ind_test], y_train[ind_train], y_train[ind_test]\n",
    "        my_clf.fit(X_train_, y_train_)\n",
    "        pred = my_clf.predict(X_test_)\n",
    "        preds += accuracy_score(y_pred=pred, y_true=y_test_)\n",
    "        f += f1_score(y_test_, pred)\n",
    "    acc.append(preds / 3)\n",
    "    f1.append(f/3)\n",
    "    print(f/3)\n",
    "print(acc)\n",
    "print(f1)\n",
    "best_p = percent[np.argmax(f1)]\n",
    "print('Лучший subsample  =', best_p)"
   ]
  },
  {
   "cell_type": "code",
   "execution_count": 141,
   "id": "dad563f2",
   "metadata": {},
   "outputs": [
    {
     "name": "stdout",
     "output_type": "stream",
     "text": [
      "Лучший subsample  = 0.6\n"
     ]
    }
   ],
   "source": [
    "best_p = percent[np.argmax(f1)]\n",
    "print('Лучший subsample  =', best_p)"
   ]
  },
  {
   "cell_type": "code",
   "execution_count": 142,
   "id": "e9405627",
   "metadata": {},
   "outputs": [
    {
     "name": "stdout",
     "output_type": "stream",
     "text": [
      "0.6696315864548428\n",
      "0.6819512373522215\n",
      "0.682180332006165\n",
      "0.6856937637694757\n",
      "0.6824441508151011\n",
      "0.6794529390746749\n",
      "0.6770784805014909\n",
      "0.6846093153684416\n",
      "0.685099540473359\n",
      "[0.8245679263756052, 0.8310285836728721, 0.830803521449447, 0.8334088035311576, 0.8320491842245635, 0.8325017357375003, 0.8315957081150226, 0.8349957965526879, 0.8351092137361462]\n",
      "[0.6696315864548428, 0.6819512373522215, 0.682180332006165, 0.6856937637694757, 0.6824441508151011, 0.6794529390746749, 0.6770784805014909, 0.6846093153684416, 0.685099540473359]\n",
      "Лучший depth = 4\n"
     ]
    }
   ],
   "source": [
    "acc = []\n",
    "f1 = []\n",
    "depth = np.arange(1, 10)\n",
    "for d in depth:\n",
    "    preds = 0\n",
    "    f = 0\n",
    "    my_clf = GradientBoostingClassifier(n_estimators=170, loss='exponential', learning_rate=0.1, subsample=0.6, max_depth=d)\n",
    "    for ind_train, ind_test in kfold.split(X_train, y_train):\n",
    "        X_train_, X_test_, y_train_, y_test_ = X_train[ind_train], X_train[ind_test], y_train[ind_train], y_train[ind_test]\n",
    "        my_clf.fit(X_train_, y_train_)\n",
    "        pred = my_clf.predict(X_test_)\n",
    "        preds += accuracy_score(y_pred=pred, y_true=y_test_)\n",
    "        f += f1_score(y_test_, pred)\n",
    "    acc.append(preds / 3)\n",
    "    f1.append(f/3)\n",
    "    print(f/3)\n",
    "print(acc)\n",
    "print(f1)\n",
    "best_d = depth[np.argmax(f1)]\n",
    "print('Лучший depth =', best_d)"
   ]
  },
  {
   "cell_type": "code",
   "execution_count": 143,
   "id": "83b8c623",
   "metadata": {},
   "outputs": [
    {
     "name": "stdout",
     "output_type": "stream",
     "text": [
      "0.838814600650524\n",
      "0.7397899649941657\n"
     ]
    }
   ],
   "source": [
    "clf = GradientBoostingClassifier(n_estimators=170, loss='exponential', learning_rate=0.1, subsample=0.6, max_depth=4)\n",
    "clf.fit(X_train, y_train)\n",
    "pred = clf.predict(X_test)\n",
    "print(accuracy_score(y_test, pred))\n",
    "print(f1_score(y_test, pred))"
   ]
  },
  {
   "cell_type": "code",
   "execution_count": 144,
   "id": "9fa859f3",
   "metadata": {},
   "outputs": [
    {
     "name": "stdout",
     "output_type": "stream",
     "text": [
      "0.8192988796530538\n",
      "0.6798975672215108\n"
     ]
    }
   ],
   "source": [
    "clf = GradientBoostingClassifier(n_estimators=170, loss='exponential', learning_rate=0.1, subsample=0.6, max_depth=4)\n",
    "train_scaler, test_scaler = StandardScaler(), StandardScaler()\n",
    "train_scaler.fit(X_train), test_scaler.fit(X_test)\n",
    "X_train, X_test = train_scaler.transform(X_train), test_scaler.transform(X_test)\n",
    "clf.fit(X_train, y_train)\n",
    "pred = clf.predict(X_test)\n",
    "print(accuracy_score(y_test, pred))\n",
    "print(f1_score(y_test, pred))"
   ]
  },
  {
   "cell_type": "code",
   "execution_count": 25,
   "id": "783dc7be",
   "metadata": {},
   "outputs": [],
   "source": [
    "from catboost import CatBoostClassifier\n",
    "from sklearn.preprocessing import StandardScaler"
   ]
  },
  {
   "cell_type": "code",
   "execution_count": 261,
   "id": "435da675",
   "metadata": {},
   "outputs": [],
   "source": [
    "X_train, y_train = parser_groups_train(range(1, 100))\n",
    "X_test, y_test = parser_groups_train(range(100, 130))"
   ]
  },
  {
   "cell_type": "code",
   "execution_count": 224,
   "id": "eb4c29ad",
   "metadata": {},
   "outputs": [
    {
     "name": "stderr",
     "output_type": "stream",
     "text": [
      "Custom logger is already specified. Specify more than one logger at same time is not thread safe."
     ]
    },
    {
     "data": {
      "application/vnd.jupyter.widget-view+json": {
       "model_id": "f9e45aac89864b59a241ea8f5a375a46",
       "version_major": 2,
       "version_minor": 0
      },
      "text/plain": [
       "MetricVisualizer(layout=Layout(align_self='stretch', height='500px'))"
      ]
     },
     "metadata": {},
     "output_type": "display_data"
    },
    {
     "name": "stdout",
     "output_type": "stream",
     "text": [
      "0.7414806110458285\n",
      "1.0\n"
     ]
    }
   ],
   "source": [
    "my_clf = CatBoostClassifier(loss_function='Logloss',\n",
    "                            depth=9,\n",
    "                            #learning_rate=0.01,\n",
    "                            eta=0.1,\n",
    "                            verbose=False, \n",
    "                            iterations=600, \n",
    "                            leaf_estimation_method = 'Gradient',\n",
    "                            random_seed=42,\n",
    "                            custom_loss=['F1', 'Precision', 'Recall'])\n",
    "# train_scaler, test_scaler = StandardScaler(), StandardScaler()\n",
    "# train_scaler.fit(X_train), test_scaler.fit(X_test)\n",
    "# X_train, X_test = train_scaler.transform(X_train), test_scaler.transform(X_test)\n",
    "X_train, y_train = parser_groups_train(range(1, 100))\n",
    "X_test, y_test = parser_groups_train(range(100, 130))\n",
    "my_clf.fit(X_train, y_train, plot=True)\n",
    "print(f1_score(my_clf.predict(X_test), y_test))\n",
    "print(f1_score(my_clf.predict(X_train), y_train))"
   ]
  },
  {
   "cell_type": "code",
   "execution_count": 269,
   "id": "591438ba",
   "metadata": {},
   "outputs": [
    {
     "data": {
      "application/vnd.jupyter.widget-view+json": {
       "model_id": "6178d0c4906b4d43843fc79d5d649f98",
       "version_major": 2,
       "version_minor": 0
      },
      "text/plain": [
       "MetricVisualizer(layout=Layout(align_self='stretch', height='500px'))"
      ]
     },
     "metadata": {},
     "output_type": "display_data"
    },
    {
     "name": "stdout",
     "output_type": "stream",
     "text": [
      "0.7530936947554507\n",
      "0.8535419382877011\n"
     ]
    }
   ],
   "source": [
    "my_clf = CatBoostClassifier(loss_function='Logloss',\n",
    "                            depth=6,\n",
    "                            learning_rate=0.01,\n",
    "                            verbose=False, \n",
    "                            iterations=2000, \n",
    "                            leaf_estimation_method = 'Gradient',\n",
    "                            random_seed=42,\n",
    "                            custom_loss=['F1', 'Precision', 'Recall'])\n",
    "# train_scaler, test_scaler = StandardScaler(), StandardScaler()\n",
    "# train_scaler.fit(X_train), test_scaler.fit(X_test)\n",
    "# X_train, X_test = train_scaler.transform(X_train), test_scaler.transform(X_test)\n",
    "my_clf.fit(X_train, y_train, plot=True)\n",
    "pred = my_clf.predict(X_test)\n",
    "print(f1_score(pred, y_test))\n",
    "print(f1_score(my_clf.predict(X_train), y_train))"
   ]
  },
  {
   "cell_type": "code",
   "execution_count": 234,
   "id": "55e89fe4",
   "metadata": {},
   "outputs": [
    {
     "data": {
      "application/vnd.jupyter.widget-view+json": {
       "model_id": "aebb8e04a43d4beda4a4dd3025bc577f",
       "version_major": 2,
       "version_minor": 0
      },
      "text/plain": [
       "MetricVisualizer(layout=Layout(align_self='stretch', height='500px'))"
      ]
     },
     "metadata": {},
     "output_type": "display_data"
    },
    {
     "name": "stdout",
     "output_type": "stream",
     "text": [
      "0.7489711934156378\n",
      "0.8829373650107992\n"
     ]
    },
    {
     "data": {
      "application/vnd.jupyter.widget-view+json": {
       "model_id": "b0a6e4612b3b4f44a66bacce9afc2d44",
       "version_major": 2,
       "version_minor": 0
      },
      "text/plain": [
       "MetricVisualizer(layout=Layout(align_self='stretch', height='500px'))"
      ]
     },
     "metadata": {},
     "output_type": "display_data"
    },
    {
     "name": "stdout",
     "output_type": "stream",
     "text": [
      "0.7439670394349618\n",
      "0.9593908629441624\n"
     ]
    },
    {
     "data": {
      "application/vnd.jupyter.widget-view+json": {
       "model_id": "dcb4e01140f44b3f944dfc6746d72742",
       "version_major": 2,
       "version_minor": 0
      },
      "text/plain": [
       "MetricVisualizer(layout=Layout(align_self='stretch', height='500px'))"
      ]
     },
     "metadata": {},
     "output_type": "display_data"
    },
    {
     "name": "stdout",
     "output_type": "stream",
     "text": [
      "0.747957992998833\n",
      "0.9869646182495345\n"
     ]
    },
    {
     "data": {
      "application/vnd.jupyter.widget-view+json": {
       "model_id": "f9ad9be1f71c4fe998aee78fffa64f64",
       "version_major": 2,
       "version_minor": 0
      },
      "text/plain": [
       "MetricVisualizer(layout=Layout(align_self='stretch', height='500px'))"
      ]
     },
     "metadata": {},
     "output_type": "display_data"
    },
    {
     "name": "stdout",
     "output_type": "stream",
     "text": [
      "0.743362831858407\n",
      "0.9965156794425087\n"
     ]
    },
    {
     "data": {
      "application/vnd.jupyter.widget-view+json": {
       "model_id": "3f21d1ad98e94b89bf5f870277c59c37",
       "version_major": 2,
       "version_minor": 0
      },
      "text/plain": [
       "MetricVisualizer(layout=Layout(align_self='stretch', height='500px'))"
      ]
     },
     "metadata": {},
     "output_type": "display_data"
    },
    {
     "name": "stdout",
     "output_type": "stream",
     "text": [
      "0.7447058823529411\n",
      "0.9993868792152054\n"
     ]
    },
    {
     "data": {
      "application/vnd.jupyter.widget-view+json": {
       "model_id": "f156a0ee9b774b2295435b6b8211d2c1",
       "version_major": 2,
       "version_minor": 0
      },
      "text/plain": [
       "MetricVisualizer(layout=Layout(align_self='stretch', height='500px'))"
      ]
     },
     "metadata": {},
     "output_type": "display_data"
    },
    {
     "name": "stdout",
     "output_type": "stream",
     "text": [
      "0.73943661971831\n",
      "1.0\n"
     ]
    },
    {
     "data": {
      "application/vnd.jupyter.widget-view+json": {
       "model_id": "8ad0f25c4be84511a6f3032f7896a7d5",
       "version_major": 2,
       "version_minor": 0
      },
      "text/plain": [
       "MetricVisualizer(layout=Layout(align_self='stretch', height='500px'))"
      ]
     },
     "metadata": {},
     "output_type": "display_data"
    },
    {
     "name": "stdout",
     "output_type": "stream",
     "text": [
      "0.7412177985948478\n",
      "1.0\n"
     ]
    },
    {
     "data": {
      "application/vnd.jupyter.widget-view+json": {
       "model_id": "d6a03477ee4848a2b165a4f984f481e1",
       "version_major": 2,
       "version_minor": 0
      },
      "text/plain": [
       "MetricVisualizer(layout=Layout(align_self='stretch', height='500px'))"
      ]
     },
     "metadata": {},
     "output_type": "display_data"
    },
    {
     "name": "stdout",
     "output_type": "stream",
     "text": [
      "0.7489711934156378\n",
      "1.0\n"
     ]
    },
    {
     "data": {
      "application/vnd.jupyter.widget-view+json": {
       "model_id": "e2cdf1058d2a4eda8ae903dee7be61fb",
       "version_major": 2,
       "version_minor": 0
      },
      "text/plain": [
       "MetricVisualizer(layout=Layout(align_self='stretch', height='500px'))"
      ]
     },
     "metadata": {},
     "output_type": "display_data"
    },
    {
     "name": "stdout",
     "output_type": "stream",
     "text": [
      "0.7460410557184751\n",
      "1.0\n"
     ]
    }
   ],
   "source": [
    "for i in np.arange(0.01, 0.1, 0.01):\n",
    "    my_clf = CatBoostClassifier(loss_function='Logloss',\n",
    "                                depth=9,\n",
    "                                learning_rate=i,\n",
    "                                verbose=False, \n",
    "                                iterations=1000, \n",
    "                                leaf_estimation_method = 'Gradient',\n",
    "                                random_seed=42,\n",
    "                                custom_loss=['F1', 'Precision', 'Recall'])\n",
    "    # train_scaler, test_scaler = StandardScaler(), StandardScaler()\n",
    "    # train_scaler.fit(X_train), test_scaler.fit(X_test)\n",
    "    # X_train, X_test = train_scaler.transform(X_train), test_scaler.transform(X_test)\n",
    "    my_clf.fit(X_train, y_train, plot=True)\n",
    "    pred = my_clf.predict(X_test)\n",
    "    print(f1_score(pred, y_test))\n",
    "    print(f1_score(my_clf.predict(X_train), y_train))"
   ]
  },
  {
   "cell_type": "code",
   "execution_count": 107,
   "id": "96200dbb",
   "metadata": {},
   "outputs": [
    {
     "name": "stdout",
     "output_type": "stream",
     "text": [
      "0.7027406886858748\n"
     ]
    }
   ],
   "source": [
    "print(f1_score(my_clf.predict(X_test), y_test))"
   ]
  },
  {
   "cell_type": "code",
   "execution_count": 93,
   "id": "0d4e0039",
   "metadata": {},
   "outputs": [
    {
     "data": {
      "text/plain": [
       "0.6466666666666667"
      ]
     },
     "execution_count": 93,
     "metadata": {},
     "output_type": "execute_result"
    }
   ],
   "source": [
    "f1_score(my_clf.predict(X_test[:1000,:53]), y_test[:1000])"
   ]
  },
  {
   "cell_type": "code",
   "execution_count": 96,
   "id": "1a7da7a7",
   "metadata": {},
   "outputs": [
    {
     "data": {
      "text/plain": [
       "(8901, 53)"
      ]
     },
     "execution_count": 96,
     "metadata": {},
     "output_type": "execute_result"
    }
   ],
   "source": [
    "X_train[:,:53].shape"
   ]
  },
  {
   "cell_type": "code",
   "execution_count": null,
   "id": "7b5ae412",
   "metadata": {},
   "outputs": [],
   "source": [
    "my_clf = CatBoostClassifier(loss_function='Logloss',\n",
    "                            depth=9,\n",
    "                            learning_rate=0.01,\n",
    "                            verbose=False, \n",
    "                            iterations=500, \n",
    "                            leaf_estimation_method = 'Gradient',\n",
    "                            random_seed=42,\n",
    "                            custom_loss=['F1', 'Precision', 'Recall'])\n",
    "train_scaler, test_scaler = StandardScaler(), StandardScaler()\n",
    "train_scaler.fit(X_train), test_scaler.fit(X_test)\n",
    "X_train, X_test = train_scaler.transform(X_train), test_scaler.transform(X_test)\n",
    "my_clf.fit(X_train, y_train, plot=True)\n",
    "pred = my_clf.predict(X_test)\n",
    "print(f1_score(pred, y_test))\n",
    "print(f1_score(my_clf.predict(X_train), y_train))"
   ]
  },
  {
   "cell_type": "code",
   "execution_count": 76,
   "id": "0e8d9e06",
   "metadata": {},
   "outputs": [
    {
     "data": {
      "text/plain": [
       "array([0, 1, 0, ..., 1, 1, 0])"
      ]
     },
     "execution_count": 76,
     "metadata": {},
     "output_type": "execute_result"
    }
   ],
   "source": [
    "pred"
   ]
  },
  {
   "cell_type": "code",
   "execution_count": 81,
   "id": "fa933a2d",
   "metadata": {},
   "outputs": [
    {
     "data": {
      "text/plain": [
       "array([1, 0, 0, ..., 0, 0, 0])"
      ]
     },
     "execution_count": 81,
     "metadata": {},
     "output_type": "execute_result"
    }
   ],
   "source": [
    "y_test"
   ]
  },
  {
   "cell_type": "code",
   "execution_count": 82,
   "id": "fec14ea0",
   "metadata": {},
   "outputs": [
    {
     "data": {
      "text/plain": [
       "(2589,)"
      ]
     },
     "execution_count": 82,
     "metadata": {},
     "output_type": "execute_result"
    }
   ],
   "source": [
    "y_test.shape"
   ]
  },
  {
   "cell_type": "code",
   "execution_count": 83,
   "id": "5c67ed67",
   "metadata": {},
   "outputs": [
    {
     "data": {
      "text/plain": [
       "(8901,)"
      ]
     },
     "execution_count": 83,
     "metadata": {},
     "output_type": "execute_result"
    }
   ],
   "source": [
    "pred.shape"
   ]
  },
  {
   "cell_type": "code",
   "execution_count": 108,
   "id": "d6eca806",
   "metadata": {},
   "outputs": [
    {
     "data": {
      "text/plain": [
       "(array([1980.,    0.,    0.,    0.,    0.,    0.,    0.,    0.,    0.,\n",
       "         609.]),\n",
       " array([0. , 0.1, 0.2, 0.3, 0.4, 0.5, 0.6, 0.7, 0.8, 0.9, 1. ]),\n",
       " <BarContainer object of 10 artists>)"
      ]
     },
     "execution_count": 108,
     "metadata": {},
     "output_type": "execute_result"
    },
    {
     "data": {
      "image/png": "[encoded data removed]",
      "text/plain": [
       "<Figure size 432x288 with 1 Axes>"
      ]
     },
     "metadata": {
      "needs_background": "light"
     },
     "output_type": "display_data"
    }
   ],
   "source": [
    "plt.hist(pred)"
   ]
  },
  {
   "cell_type": "code",
   "execution_count": 109,
   "id": "d7a0ca30",
   "metadata": {},
   "outputs": [
    {
     "data": {
      "text/plain": [
       "(array([1775.,    0.,    0.,    0.,    0.,    0.,    0.,    0.,    0.,\n",
       "         814.]),\n",
       " array([0. , 0.1, 0.2, 0.3, 0.4, 0.5, 0.6, 0.7, 0.8, 0.9, 1. ]),\n",
       " <BarContainer object of 10 artists>)"
      ]
     },
     "execution_count": 109,
     "metadata": {},
     "output_type": "execute_result"
    },
    {
     "data": {
      "image/png": "[encoded data removed]",
      "text/plain": [
       "<Figure size 432x288 with 1 Axes>"
      ]
     },
     "metadata": {
      "needs_background": "light"
     },
     "output_type": "display_data"
    }
   ],
   "source": [
    "plt.hist(y_test)"
   ]
  },
  {
   "cell_type": "code",
   "execution_count": 110,
   "id": "ea4a769f",
   "metadata": {},
   "outputs": [
    {
     "data": {
      "text/plain": [
       "423"
      ]
     },
     "execution_count": 110,
     "metadata": {},
     "output_type": "execute_result"
    }
   ],
   "source": [
    "np.sum(np.abs(y_test - pred))"
   ]
  },
  {
   "cell_type": "code",
   "execution_count": null,
   "id": "f248ece7",
   "metadata": {},
   "outputs": [],
   "source": []
  }
 ],
 "metadata": {
  "kernelspec": {
   "display_name": "Python 3 (ipykernel)",
   "language": "python",
   "name": "python3"
  },
  "language_info": {
   "codemirror_mode": {
    "name": "ipython",
    "version": 3
   },
   "file_extension": ".py",
   "mimetype": "text/x-python",
   "name": "python",
   "nbconvert_exporter": "python",
   "pygments_lexer": "ipython3",
   "version": "3.9.5"
  }
 },
 "nbformat": 4,
 "nbformat_minor": 5
}
