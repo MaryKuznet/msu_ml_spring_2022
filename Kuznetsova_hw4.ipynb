{
 "cells": [
  {
   "cell_type": "markdown",
   "metadata": {},
   "source": [
    "### Алгоритмы интеллектуальной обработки больших объемов данных\n",
    "## Домашнее задание №4 - Градиентный бустинг\n"
   ]
  },
  {
   "cell_type": "markdown",
   "metadata": {},
   "source": [
    "**Общая информация**\n",
    "\n",
    "**Срок сдачи:** 13 июня 2022, 08:30   \n",
    "**Штраф за опоздание:** -2 балла после 08:30 13 июня, -4 балла после 08:30 20 июня, -6 баллов после 08:30 24 мая, -8 баллов после 08:30 31 мая.\n",
    "\n",
    "При отправлении ДЗ указывайте фамилию в названии файла Присылать ДЗ необходимо в виде ссылки на свой github репозиторий на почту ml1.sphere@mail.ru с указанием темы в следующем формате:\n",
    "[ML0422, Задание 4] Фамилия Имя. \n",
    "\n",
    "\n",
    "Используйте данный Ipython Notebook при оформлении домашнего задания."
   ]
  },
  {
   "cell_type": "markdown",
   "metadata": {},
   "source": [
    "##  Считаем производные для функций потерь (1 балл)"
   ]
  },
  {
   "cell_type": "markdown",
   "metadata": {},
   "source": [
    "Мы будем реализовать градиентный бустинг для 3 функций потерь:\n",
    "\n",
    "1) MSE  $L(a(x_i), y_i) = (y_i - a(x_i)) ^ 2$\n",
    "\n",
    "2) Экспоненциальная  $L(a(x_i), y_i) = exp( -a(x_i) y_i), y_i \\in \\{-1, 1\\}$\n",
    "\n",
    "3) Логистическая  $L(a(x_i), y_i) = \\log (1 + exp( -a(x_i) y_i)), y_i \\in \\{-1, 1\\}$\n",
    "\n",
    "где $a(x_i)$ предсказание бустинга на итом объекте. \n",
    "\n",
    "Для каждой функции потерь напишите таргет, на который будет настраиваться каждое дерево в бустинге. "
   ]
  },
  {
   "cell_type": "markdown",
   "metadata": {},
   "source": [
    "1) MSE $$ - \\frac{\\partial L(F_{k-1}(x_i), y_i)}{\\partial F_{k-1}(x_i)} = - \\frac{\\partial ((y_i - F_{k-1}(x_i)) ^ 2)}{\\partial F_{k-1}(x_i)} = 2 (y_i - F_{k-1}(x_i))$$\n",
    "\n",
    "2) Экспоненциальная $$ - \\frac{\\partial L(F_{k-1}(x_i), y_i)}{\\partial F_{k-1}(x_i)} = - \\frac{\\partial (exp( -F_{k-1}(x_i) y_i))}{\\partial F_{k-1}(x_i)} = y_i exp( -y_i F_{k-1}(x_i))$$\n",
    "\n",
    "3) Логистическая $$ - \\frac{\\partial L(F_{k-1}(x_i), y_i)}{\\partial F_{k-1}(x_i)} = - \\frac{\\partial (\\log (1 + exp( - y_i F_{k-1}(x_i))))}{\\partial F_{k-1}(x_i)} = \\frac{y_i exp( - y_i F_{k-1}(x_i))}{1 + exp( - y_i F_{k-1}(x_i))} = \\frac{y_i}{1 + exp(y_i F_{k-1}(x_i))}$$"
   ]
  },
  {
   "cell_type": "markdown",
   "metadata": {},
   "source": [
    "##  Реализуем градиентный бустинг (3 балла)"
   ]
  },
  {
   "cell_type": "markdown",
   "metadata": {},
   "source": [
    "Реализуйте класс градиентного бустинга для классификации. Ваша реализация бустинга должна работать по точности не более чем на 5 процентов хуже чем GradientBoostingClassifier из sklearn. \n"
   ]
  },
  {
   "cell_type": "markdown",
   "metadata": {},
   "source": [
    "Детали реализации:\n",
    "\n",
    "-- должно поддерживаться 3 функции потерь\n",
    "\n",
    "-- сами базовые алгоритмы(деревья, линейные модели и тп) реализовать не надо, просто возьмите готовые из sklearn\n",
    "\n",
    "-- в качестве функции потерь для построения одного дерева используйте MSE\n",
    "\n",
    "-- шаг в бустинге можно не подбирать, можно брать константный\n",
    "\n",
    "-- можно брать разные модели в качестве инициализации бустинга\n",
    "\n",
    "-- должны поддерживаться следующие параметры:\n",
    "\n",
    "а) число итераций\n",
    "б) размер шага\n",
    "в) процент случайных фичей при построении одного дерева\n",
    "д) процент случайных объектов при построении одного дерева\n",
    "е) параметры базового алгоритма (передавайте через **kwargs)"
   ]
  },
  {
   "cell_type": "code",
   "execution_count": 430,
   "metadata": {
    "jupyter": {
     "outputs_hidden": true
    }
   },
   "outputs": [],
   "source": [
    "import numpy as np\n",
    "\n",
    "from sklearn.datasets import load_wine\n",
    "from sklearn.ensemble import GradientBoostingClassifier\n",
    "from sklearn.metrics import accuracy_score\n",
    "from sklearn.model_selection import train_test_split\n",
    "from sklearn.tree import DecisionTreeRegressor"
   ]
  },
  {
   "cell_type": "code",
   "execution_count": 431,
   "metadata": {
    "jupyter": {
     "outputs_hidden": true
    }
   },
   "outputs": [],
   "source": [
    "class MyGradientBoostingClassifier:\n",
    "\n",
    "    def __init__(self, loss='MSE', learning_rate=0.1, n_estimators=100, colsample=1.0, subsample=1.0, *args, **kwargs):\n",
    "        \"\"\"\n",
    "        loss -- один из 3 лоссов:\n",
    "        learning_rate -- шаг бустинга\n",
    "        n_estimators -- число итераций\n",
    "        colsample -- процент рандомных признаков при обучнеии одного алгоритма\n",
    "        colsample -- процент рандомных объектов при обучнеии одного алгоритма\n",
    "        args, kwargs -- параметры  базовых моделей\n",
    "        \"\"\"\n",
    "        # Ваш код здесь\n",
    "        self.loss = loss\n",
    "        self.learning_rate = learning_rate\n",
    "        self.n_estimators = n_estimators\n",
    "        self.colsample = colsample\n",
    "        self.subsample = subsample\n",
    "        self.args = args\n",
    "        self.kwargs = kwargs\n",
    "    \n",
    "    def fit(self, X, y, base_model=DecisionTreeRegressor, init_model=None):\n",
    "        \"\"\"\n",
    "        X -- объекты для обучения:\n",
    "        y -- таргеты для обучения\n",
    "        base_model -- класс базовых моделей, например sklearn.tree.DecisionTreeRegressor\n",
    "        init_model -- класс для первой модели, если None то берем константу (только для посл задания)\n",
    "        \"\"\"\n",
    "        self.models = []\n",
    "        self.features = []\n",
    "        \n",
    "        if init_model is not None:\n",
    "            init_model.fit(X,y)\n",
    "            sum_loss = init_model.predict(X).astype('float64')\n",
    "            self.models.append(init_model)\n",
    "            self.features.append(np.arange(X.shape[1]))\n",
    "            \n",
    "        else:\n",
    "            sum_loss = np.zeros(y.size).astype('float64')\n",
    "        \n",
    "        n = int(self.subsample * X.shape[0])\n",
    "        m = int(self.colsample * X.shape[1])\n",
    "            \n",
    "        for i in range(self.n_estimators):\n",
    "            model = base_model(*self.args, **self.kwargs)\n",
    "            \n",
    "            indx_n = np.random.choice(X.shape[0], n, replace=False)\n",
    "            indx_m = np.random.choice(X.shape[1], m, replace=False)\n",
    "            \n",
    "            self.features.append(indx_m)\n",
    "            \n",
    "            if self.loss == 'MSE':\n",
    "                preds = 2 * (y[indx_n] - sum_loss[indx_n])\n",
    "\n",
    "            elif self.loss == 'Exp':\n",
    "                preds =  y[indx_n] * np.exp(-y[indx_n] * sum_loss[indx_n])\n",
    "\n",
    "            elif self.loss == 'Log':\n",
    "                preds = y[indx_n] / (1 + np.exp(y[indx_n] * sum_loss[indx_n]))\n",
    "                \n",
    "                \n",
    "            model.fit(X[indx_n][:, indx_m], preds) \n",
    "            sum_loss +=  self.learning_rate * model.predict(X[:, indx_m])\n",
    "            self.models.append(model)        \n",
    "\n",
    "    def predict(self, X):\n",
    "        predict = np.zeros(X.shape[0])\n",
    "        for i, model in enumerate(self.models):\n",
    "            predict += self.learning_rate * model.predict(X[:, self.features[i]])\n",
    "        if self.loss == 'MSE':\n",
    "            return np.around(predict)\n",
    "        else:\n",
    "            return predict > 0.5\n",
    "\n"
   ]
  },
  {
   "cell_type": "code",
   "execution_count": 432,
   "metadata": {},
   "outputs": [],
   "source": [
    "my_clf = MyGradientBoostingClassifier()\n",
    "clf = GradientBoostingClassifier()"
   ]
  },
  {
   "cell_type": "code",
   "execution_count": 433,
   "metadata": {
    "jupyter": {
     "outputs_hidden": true
    }
   },
   "outputs": [],
   "source": [
    "wine = load_wine()\n",
    "X_train, X_test, y_train, y_test = train_test_split(wine.data, wine.target, test_size=0.1, stratify=wine.target)"
   ]
  },
  {
   "cell_type": "code",
   "execution_count": 434,
   "metadata": {},
   "outputs": [
    {
     "name": "stdout",
     "output_type": "stream",
     "text": [
      "0.7777777777777778\n",
      "0.9444444444444444\n"
     ]
    }
   ],
   "source": [
    "my_clf.fit(X_train, y_train)\n",
    "clf.fit(X_train, y_train)\n",
    "print(accuracy_score(y_pred=clf.predict(X_test), y_true=y_test))\n",
    "print(accuracy_score(y_pred=my_clf.predict(X_test), y_true=y_test))"
   ]
  },
  {
   "cell_type": "markdown",
   "metadata": {},
   "source": [
    "## Подбираем параметры (2 балла)\n",
    "\n",
    "Давайте попробуем применить Ваш бустинг для предсказаний цены домов в Калифорнии. Чтобы можно было попробовтаь разные функции потерь, переведем по порогу таргет в 2 класса: дорогие и дешевые дома."
   ]
  },
  {
   "cell_type": "markdown",
   "metadata": {},
   "source": [
    "В задании нужно\n",
    "\n",
    "1) Построить график точности в зависимости от числа итераций на валидации.\n",
    "\n",
    "2) Подобрать оптимальные параметры Вашего бустинга на валидации. \n"
   ]
  },
  {
   "cell_type": "code",
   "execution_count": 445,
   "metadata": {},
   "outputs": [],
   "source": [
    "from sklearn.datasets import fetch_california_housing\n",
    "X, y = fetch_california_housing(return_X_y=True)"
   ]
  },
  {
   "cell_type": "code",
   "execution_count": 446,
   "metadata": {},
   "outputs": [
    {
     "name": "stdout",
     "output_type": "stream",
     "text": [
      "(20640, 8) (20640,)\n"
     ]
    }
   ],
   "source": [
    "# Превращаем регрессию в классификацию\n",
    "y = (y > 2.0).astype(int)\n",
    "print(X.shape, y.shape)"
   ]
  },
  {
   "cell_type": "code",
   "execution_count": 447,
   "metadata": {
    "jupyter": {
     "outputs_hidden": true
    }
   },
   "outputs": [],
   "source": [
    "from sklearn.model_selection import KFold\n",
    "import matplotlib.pyplot as plt\n",
    "import matplotlib.ticker as ticker\n",
    "\n",
    "kfold = KFold(n_splits = 3, shuffle = True)"
   ]
  },
  {
   "cell_type": "code",
   "execution_count": 448,
   "metadata": {},
   "outputs": [],
   "source": [
    "X_train, X_test, y_train, y_test = train_test_split(X, y, test_size=0.25, random_state=42)"
   ]
  },
  {
   "cell_type": "code",
   "execution_count": 449,
   "metadata": {
    "jupyter": {
     "outputs_hidden": true
    }
   },
   "outputs": [],
   "source": [
    "acc = []\n",
    "for i in range(1, 500, 5):\n",
    "    preds = 0\n",
    "    my_clf = MyGradientBoostingClassifier(n_estimators=i)\n",
    "    for ind_train, ind_test in kfold.split(X_train, y_train):\n",
    "        X_train_, X_test_, y_train_, y_test_ = X_train[ind_train], X_train[ind_test], y_train[ind_train], y_train[ind_test]\n",
    "        my_clf.fit(X_train_, y_train_)\n",
    "        preds += accuracy_score(y_pred=my_clf.predict(X_test_), y_true=y_test_)\n",
    "    acc.append(preds / 3)\n",
    "        "
   ]
  },
  {
   "cell_type": "code",
   "execution_count": 450,
   "metadata": {},
   "outputs": [
    {
     "data": {
      "image/png": "[encoded data removed]",
      "text/plain": [
       "<Figure size 1080x720 with 1 Axes>"
      ]
     },
     "metadata": {
      "needs_background": "light"
     },
     "output_type": "display_data"
    }
   ],
   "source": [
    "fig = plt.figure(figsize = (15, 10))\n",
    "plt.title('График зависимости точности от числа итераций ',fontsize=16)\n",
    "plt.xlabel('Число итераций', fontsize=15)\n",
    "plt.ylabel('Точность', fontsize=15)\n",
    "plt.xlim([1, 500])\n",
    "plt.plot(np.arange(1, 500, 5), acc)\n",
    "plt.grid(True)"
   ]
  },
  {
   "cell_type": "code",
   "execution_count": 451,
   "metadata": {},
   "outputs": [
    {
     "data": {
      "image/png": "[encoded data removed]",
      "text/plain": [
       "<Figure size 1080x720 with 1 Axes>"
      ]
     },
     "metadata": {
      "needs_background": "light"
     },
     "output_type": "display_data"
    }
   ],
   "source": [
    "fig = plt.figure(figsize = (15, 10))\n",
    "plt.title('График зависимости точности от числа итераций ',fontsize=16)\n",
    "plt.xlabel('Число итераций', fontsize=15)\n",
    "plt.ylabel('Точность', fontsize=15)\n",
    "plt.xlim([1, 500])\n",
    "plt.plot(np.arange(21, 500, 5), acc[4:])\n",
    "plt.grid(True)"
   ]
  },
  {
   "cell_type": "code",
   "execution_count": 452,
   "metadata": {},
   "outputs": [
    {
     "name": "stdout",
     "output_type": "stream",
     "text": [
      "126\n"
     ]
    }
   ],
   "source": [
    "iterat = np.arange(1, 500, 5)\n",
    "best_iter = iterat[np.argmax(acc)]\n",
    "print(best_iter)"
   ]
  },
  {
   "cell_type": "code",
   "execution_count": 453,
   "metadata": {},
   "outputs": [],
   "source": [
    "kfold = KFold(n_splits = 5, shuffle = True)"
   ]
  },
  {
   "cell_type": "markdown",
   "metadata": {},
   "source": [
    "Подбираем функцию потерь"
   ]
  },
  {
   "cell_type": "code",
   "execution_count": 454,
   "metadata": {},
   "outputs": [
    {
     "name": "stdout",
     "output_type": "stream",
     "text": [
      "[0.8239018087855298, 0.8184754521963825, 0.8233850129198966]\n",
      "MSE\n"
     ]
    }
   ],
   "source": [
    "acc = []\n",
    "loss = ['MSE', 'Exp', 'Log']\n",
    "for i in ['MSE', 'Exp', 'Log']:\n",
    "    preds = 0\n",
    "    my_clf = MyGradientBoostingClassifier(loss=i)\n",
    "    for ind_train, ind_test in kfold.split(X_train, y_train):\n",
    "        X_train_, X_test_, y_train_, y_test_ = X_train[ind_train], X_train[ind_test], y_train[ind_train], y_train[ind_test]\n",
    "        my_clf.fit(X_train_, y_train_)\n",
    "        preds += accuracy_score(y_pred=my_clf.predict(X_test_), y_true=y_test_)\n",
    "    acc.append(preds / 5)\n",
    "print(acc)\n",
    "best_loss = loss[np.argmax(acc)]\n",
    "print(best_loss)"
   ]
  },
  {
   "cell_type": "markdown",
   "metadata": {},
   "source": [
    "Подбираем оптимальный шаг"
   ]
  },
  {
   "cell_type": "code",
   "execution_count": 455,
   "metadata": {},
   "outputs": [
    {
     "name": "stdout",
     "output_type": "stream",
     "text": [
      "[0.8319121447028422, 0.827002583979328, 0.8290697674418606, 0.823062015503876, 0.8257751937984497, 0.8239664082687337, 0.8168604651162792, 0.812532299741602, 0.8007751937984496, 0.5266795865633075]\n",
      "0.1\n"
     ]
    }
   ],
   "source": [
    "acc = []\n",
    "learning_rate = np.arange(0.1, 1.1, 0.1)\n",
    "for lr in learning_rate:\n",
    "    preds = 0\n",
    "    my_clf = MyGradientBoostingClassifier(learning_rate=lr)\n",
    "    for ind_train, ind_test in kfold.split(X_train, y_train):\n",
    "        X_train_, X_test_, y_train_, y_test_ = X_train[ind_train], X_train[ind_test], y_train[ind_train], y_train[ind_test]\n",
    "        my_clf.fit(X_train_, y_train_)\n",
    "        preds += accuracy_score(y_pred=my_clf.predict(X_test_), y_true=y_test_)\n",
    "    acc.append(preds / 5)\n",
    "print(acc)\n",
    "best_lr = learning_rate[np.argmax(acc)]\n",
    "print(best_lr)"
   ]
  },
  {
   "cell_type": "markdown",
   "metadata": {},
   "source": [
    "Подбираем процент рандомных признаков"
   ]
  },
  {
   "cell_type": "code",
   "execution_count": 456,
   "metadata": {},
   "outputs": [
    {
     "name": "stdout",
     "output_type": "stream",
     "text": [
      "[0.682170542635659, 0.7279715762273902, 0.8065245478036175, 0.8510981912144702, 0.8529069767441861, 0.8729328165374678, 0.8679586563307493, 0.8568475452196382, 0.8284883720930234]\n",
      "0.7000000000000002\n"
     ]
    }
   ],
   "source": [
    "acc = []\n",
    "percent = np.arange(0.2, 1.1, 0.1)\n",
    "for p in percent:\n",
    "    preds = 0\n",
    "    my_clf = MyGradientBoostingClassifier(learning_rate=0.1, colsample=p)\n",
    "    for ind_train, ind_test in kfold.split(X_train, y_train):\n",
    "        X_train_, X_test_, y_train_, y_test_ = X_train[ind_train], X_train[ind_test], y_train[ind_train], y_train[ind_test]\n",
    "        my_clf.fit(X_train_, y_train_)\n",
    "        preds += accuracy_score(y_pred=my_clf.predict(X_test_), y_true=y_test_)\n",
    "    acc.append(preds / 5)\n",
    "print(acc)\n",
    "best_p = percent[np.argmax(acc)]\n",
    "print(best_p)"
   ]
  },
  {
   "cell_type": "markdown",
   "metadata": {},
   "source": [
    "Подбираем процент рандомных признаков"
   ]
  },
  {
   "cell_type": "code",
   "execution_count": 457,
   "metadata": {},
   "outputs": [
    {
     "name": "stdout",
     "output_type": "stream",
     "text": [
      "[0.6016795865633074, 0.8083333333333333, 0.850516795865633, 0.8608527131782946, 0.8702196382428941, 0.8715116279069768, 0.8700904392764857, 0.8662790697674418, 0.8807493540051681, 0.8567183462532301]\n",
      "0.9\n"
     ]
    }
   ],
   "source": [
    "acc = []\n",
    "percent = np.arange(0.1, 1.1, 0.1)\n",
    "for p in percent:\n",
    "    preds = 0\n",
    "    my_clf = MyGradientBoostingClassifier(learning_rate=0.1, colsample=0.7, subsample=p)\n",
    "    for ind_train, ind_test in kfold.split(X_train, y_train):\n",
    "        X_train_, X_test_, y_train_, y_test_ = X_train[ind_train], X_train[ind_test], y_train[ind_train], y_train[ind_test]\n",
    "        my_clf.fit(X_train_, y_train_)\n",
    "        preds += accuracy_score(y_pred=my_clf.predict(X_test_), y_true=y_test_)\n",
    "    acc.append(preds / 5)\n",
    "print(acc)\n",
    "best_p = percent[np.argmax(acc)]\n",
    "print(best_p)"
   ]
  },
  {
   "cell_type": "markdown",
   "metadata": {},
   "source": [
    "Подбираем максимальную длину деревьев"
   ]
  },
  {
   "cell_type": "code",
   "execution_count": 458,
   "metadata": {},
   "outputs": [
    {
     "name": "stdout",
     "output_type": "stream",
     "text": [
      "[0.8534237726098193, 0.8735142118863048, 0.8842377260981913, 0.8877906976744188, 0.8885012919896642, 0.8921188630490956, 0.8901808785529717, 0.8886304909560725, 0.8906330749354006]\n",
      "6\n"
     ]
    }
   ],
   "source": [
    "acc = []\n",
    "depth = np.arange(1, 10)\n",
    "for d in depth:\n",
    "    preds = 0\n",
    "    my_clf = MyGradientBoostingClassifier(learning_rate=0.1, colsample=0.7, subsample=0.9, max_depth=d)\n",
    "    for ind_train, ind_test in kfold.split(X_train, y_train):\n",
    "        X_train_, X_test_, y_train_, y_test_ = X_train[ind_train], X_train[ind_test], y_train[ind_train], y_train[ind_test]\n",
    "        my_clf.fit(X_train_, y_train_)\n",
    "        preds += accuracy_score(y_pred=my_clf.predict(X_test_), y_true=y_test_)\n",
    "    acc.append(preds / 5)\n",
    "print(acc)\n",
    "best_d = depth[np.argmax(acc)]\n",
    "print(best_d)"
   ]
  },
  {
   "cell_type": "markdown",
   "metadata": {},
   "source": [
    "Смотрим точность на тесте при оптимальных параметрах"
   ]
  },
  {
   "cell_type": "code",
   "execution_count": 460,
   "metadata": {},
   "outputs": [
    {
     "data": {
      "text/plain": [
       "0.8955426356589147"
      ]
     },
     "execution_count": 460,
     "metadata": {},
     "output_type": "execute_result"
    }
   ],
   "source": [
    "my_clf = MyGradientBoostingClassifier(learning_rate=0.1, n_estimators=126, colsample=0.7, subsample=0.9, max_depth=6)\n",
    "my_clf.fit(X_train, y_train)\n",
    "accuracy_score(y_pred=my_clf.predict(X_test), y_true=y_test)"
   ]
  },
  {
   "cell_type": "markdown",
   "metadata": {},
   "source": [
    "## BooBag BagBoo (1 балл)\n",
    "\n"
   ]
  },
  {
   "cell_type": "markdown",
   "metadata": {},
   "source": [
    "Попробуем объединить бустинг и бэгинг. Давайте\n",
    "\n",
    "1) в качестве базовой модели брать не дерево решений, а случайный лес (из sklearn)\n",
    "\n",
    "2) обучать N бустингов на бустрапированной выборке, а затем предикт усреднять"
   ]
  },
  {
   "cell_type": "markdown",
   "metadata": {},
   "source": [
    "Попробуйте обе этих стратегии на данных из прошлого задания. Получилось ли улучшить качество? Почему?"
   ]
  },
  {
   "cell_type": "code",
   "execution_count": 415,
   "metadata": {
    "jupyter": {
     "outputs_hidden": true
    }
   },
   "outputs": [],
   "source": [
    "from sklearn.ensemble import RandomForestRegressor, RandomForestClassifier"
   ]
  },
  {
   "cell_type": "code",
   "execution_count": 399,
   "metadata": {
    "jupyter": {
     "outputs_hidden": true
    }
   },
   "outputs": [],
   "source": [
    "X_train, X_test, y_train, y_test = train_test_split(X, y, test_size=0.25, random_state=42)"
   ]
  },
  {
   "cell_type": "code",
   "execution_count": 461,
   "metadata": {},
   "outputs": [
    {
     "data": {
      "text/plain": [
       "0.9025193798449612"
      ]
     },
     "execution_count": 461,
     "metadata": {},
     "output_type": "execute_result"
    }
   ],
   "source": [
    "my_clf = MyGradientBoostingClassifier(learning_rate=0.1, colsample=0.7, subsample=0.9, max_depth=6)\n",
    "my_clf.fit(X_train, y_train, base_model=RandomForestRegressor)\n",
    "accuracy_score(y_pred=my_clf.predict(X_test), y_true=y_test)"
   ]
  },
  {
   "cell_type": "code",
   "execution_count": 463,
   "metadata": {},
   "outputs": [
    {
     "name": "stdout",
     "output_type": "stream",
     "text": [
      "0 1 2 3 4 5 6 7 8 9 10 11 12 13 14 15 16 17 18 19 20 21 22 23 24 25 26 27 28 29 30 31 32 33 34 35 36 37 38 39 40 41 42 43 44 45 46 47 48 49 50 51 52 53 54 55 56 57 58 59 60 61 62 63 64 65 66 67 68 69 70 71 72 73 74 75 76 77 78 79 80 81 82 83 84 85 86 87 88 89 90 91 92 93 94 95 96 97 98 99 "
     ]
    }
   ],
   "source": [
    "preds = np.zeros(y_test.size, dtype=float)\n",
    "for i in range(100):\n",
    "    my_clf = MyGradientBoostingClassifier(learning_rate=0.1, n_estimators=20, colsample=0.7, subsample=0.3, max_depth=6)\n",
    "    my_clf.fit(X_train, y_train, base_model=RandomForestRegressor)\n",
    "    print(i, end=' ')\n",
    "    preds += my_clf.predict(X_test)"
   ]
  },
  {
   "cell_type": "code",
   "execution_count": 464,
   "metadata": {},
   "outputs": [
    {
     "data": {
      "text/plain": [
       "0.8680232558139535"
      ]
     },
     "execution_count": 464,
     "metadata": {},
     "output_type": "execute_result"
    }
   ],
   "source": [
    "accuracy_score((preds/100).astype('int'), y_test)"
   ]
  },
  {
   "cell_type": "markdown",
   "metadata": {},
   "source": [
    "В первом пункте точность немного выросла, думаю, это связано с тем что RandomForestRegressor более мощный алгоритм."
   ]
  },
  {
   "cell_type": "markdown",
   "metadata": {},
   "source": [
    "## Умная инициализация (1 балл)\n",
    "\n",
    "Попробуйте брать в качестве инициализации бустинга не константу, а какой-то алгоритм и уже от его предикта стартовать итерации бустинга. Попробуйте разные модели из sklearn: линейные модели, рандом форест, svm..\n",
    "\n",
    "Получилось ли улучшить качество? Почему?\n",
    "\n"
   ]
  },
  {
   "cell_type": "code",
   "execution_count": 465,
   "metadata": {
    "jupyter": {
     "outputs_hidden": true
    }
   },
   "outputs": [],
   "source": [
    "from sklearn.linear_model import LogisticRegression,LinearRegression\n",
    "from sklearn.svm import SVC"
   ]
  },
  {
   "cell_type": "code",
   "execution_count": 466,
   "metadata": {
    "jupyter": {
     "outputs_hidden": true
    }
   },
   "outputs": [
    {
     "data": {
      "text/plain": [
       "0.6191860465116279"
      ]
     },
     "execution_count": 466,
     "metadata": {},
     "output_type": "execute_result"
    }
   ],
   "source": [
    "my_clf = MyGradientBoostingClassifier(learning_rate=0.2, colsample=0.7, subsample=0.5)\n",
    "my_clf.fit(X_train, y_train, init_model=LinearRegression())\n",
    "accuracy_score(y_pred=my_clf.predict(X_test), y_true=y_test)"
   ]
  },
  {
   "cell_type": "code",
   "execution_count": 467,
   "metadata": {},
   "outputs": [
    {
     "data": {
      "text/plain": [
       "0.5689922480620155"
      ]
     },
     "execution_count": 467,
     "metadata": {},
     "output_type": "execute_result"
    }
   ],
   "source": [
    "my_clf = MyGradientBoostingClassifier(learning_rate=0.2, colsample=0.7, subsample=0.5)\n",
    "my_clf.fit(X_train, y_train, init_model=LogisticRegression(max_iter=500))\n",
    "accuracy_score(y_pred=my_clf.predict(X_test), y_true=y_test)"
   ]
  },
  {
   "cell_type": "code",
   "execution_count": 468,
   "metadata": {},
   "outputs": [
    {
     "data": {
      "text/plain": [
       "0.7151162790697675"
      ]
     },
     "execution_count": 468,
     "metadata": {},
     "output_type": "execute_result"
    }
   ],
   "source": [
    "my_clf = MyGradientBoostingClassifier(loss ='Exp', learning_rate=0.2, colsample=0.7, subsample=0.5)\n",
    "my_clf.fit(X_train, y_train, init_model=LogisticRegression(max_iter=500))\n",
    "accuracy_score(y_pred=my_clf.predict(X_test), y_true=y_test)"
   ]
  },
  {
   "cell_type": "code",
   "execution_count": 469,
   "metadata": {},
   "outputs": [
    {
     "data": {
      "text/plain": [
       "0.7166666666666667"
      ]
     },
     "execution_count": 469,
     "metadata": {},
     "output_type": "execute_result"
    }
   ],
   "source": [
    "my_clf = MyGradientBoostingClassifier(loss ='Exp', learning_rate=0.2, colsample=0.7, subsample=0.5)\n",
    "my_clf.fit(X_train, y_train, init_model=LinearRegression())\n",
    "accuracy_score(y_pred=my_clf.predict(X_test), y_true=y_test)"
   ]
  },
  {
   "cell_type": "code",
   "execution_count": 470,
   "metadata": {},
   "outputs": [
    {
     "data": {
      "text/plain": [
       "0.7565891472868217"
      ]
     },
     "execution_count": 470,
     "metadata": {},
     "output_type": "execute_result"
    }
   ],
   "source": [
    "my_clf = MyGradientBoostingClassifier(loss ='Log', learning_rate=0.2, colsample=0.7, subsample=0.5)\n",
    "my_clf.fit(X_train, y_train, init_model=LogisticRegression(max_iter=500))\n",
    "accuracy_score(y_pred=my_clf.predict(X_test), y_true=y_test)"
   ]
  },
  {
   "cell_type": "code",
   "execution_count": 471,
   "metadata": {},
   "outputs": [
    {
     "data": {
      "text/plain": [
       "0.7463178294573644"
      ]
     },
     "execution_count": 471,
     "metadata": {},
     "output_type": "execute_result"
    }
   ],
   "source": [
    "my_clf = MyGradientBoostingClassifier(loss ='Log', learning_rate=0.2, colsample=0.7, subsample=0.5)\n",
    "my_clf.fit(X_train, y_train, init_model=LinearRegression())\n",
    "accuracy_score(y_pred=my_clf.predict(X_test), y_true=y_test)"
   ]
  },
  {
   "cell_type": "code",
   "execution_count": 472,
   "metadata": {},
   "outputs": [
    {
     "name": "stderr",
     "output_type": "stream",
     "text": [
      "c:\\programdata\\miniconda3\\lib\\site-packages\\sklearn\\svm\\_base.py:284: ConvergenceWarning: Solver terminated early (max_iter=1000).  Consider pre-processing your data with StandardScaler or MinMaxScaler.\n",
      "  warnings.warn(\n"
     ]
    },
    {
     "data": {
      "text/plain": [
       "0.548062015503876"
      ]
     },
     "execution_count": 472,
     "metadata": {},
     "output_type": "execute_result"
    }
   ],
   "source": [
    "my_clf = MyGradientBoostingClassifier(learning_rate=0.2, colsample=0.7, subsample=0.5)\n",
    "my_clf.fit(X_train, y_train, init_model=SVC(kernel='linear',max_iter=1000))\n",
    "accuracy_score(y_pred=my_clf.predict(X_test), y_true=y_test)"
   ]
  },
  {
   "cell_type": "code",
   "execution_count": 473,
   "metadata": {},
   "outputs": [
    {
     "name": "stderr",
     "output_type": "stream",
     "text": [
      "c:\\programdata\\miniconda3\\lib\\site-packages\\sklearn\\svm\\_base.py:284: ConvergenceWarning: Solver terminated early (max_iter=1000).  Consider pre-processing your data with StandardScaler or MinMaxScaler.\n",
      "  warnings.warn(\n"
     ]
    },
    {
     "data": {
      "text/plain": [
       "0.6901162790697675"
      ]
     },
     "execution_count": 473,
     "metadata": {},
     "output_type": "execute_result"
    }
   ],
   "source": [
    "my_clf = MyGradientBoostingClassifier(loss ='Exp', learning_rate=0.2, colsample=0.7, subsample=0.5)\n",
    "my_clf.fit(X_train, y_train, init_model=SVC(kernel='linear',max_iter=1000))\n",
    "accuracy_score(y_pred=my_clf.predict(X_test), y_true=y_test)"
   ]
  },
  {
   "cell_type": "code",
   "execution_count": 474,
   "metadata": {},
   "outputs": [
    {
     "name": "stderr",
     "output_type": "stream",
     "text": [
      "c:\\programdata\\miniconda3\\lib\\site-packages\\sklearn\\svm\\_base.py:284: ConvergenceWarning: Solver terminated early (max_iter=1000).  Consider pre-processing your data with StandardScaler or MinMaxScaler.\n",
      "  warnings.warn(\n"
     ]
    },
    {
     "data": {
      "text/plain": [
       "0.6936046511627907"
      ]
     },
     "execution_count": 474,
     "metadata": {},
     "output_type": "execute_result"
    }
   ],
   "source": [
    "my_clf = MyGradientBoostingClassifier(loss ='Log', learning_rate=0.2, colsample=0.7, subsample=0.5)\n",
    "my_clf.fit(X_train, y_train, init_model=SVC(kernel='linear',max_iter=1000))\n",
    "accuracy_score(y_pred=my_clf.predict(X_test), y_true=y_test)"
   ]
  },
  {
   "cell_type": "code",
   "execution_count": 475,
   "metadata": {},
   "outputs": [
    {
     "data": {
      "text/plain": [
       "0.5810077519379845"
      ]
     },
     "execution_count": 475,
     "metadata": {},
     "output_type": "execute_result"
    }
   ],
   "source": [
    "my_clf = MyGradientBoostingClassifier(learning_rate=0.2, colsample=0.7, subsample=0.5)\n",
    "my_clf.fit(X_train, y_train, init_model=RandomForestRegressor())\n",
    "accuracy_score(y_pred=my_clf.predict(X_test), y_true=y_test)"
   ]
  },
  {
   "cell_type": "code",
   "execution_count": 476,
   "metadata": {},
   "outputs": [
    {
     "data": {
      "text/plain": [
       "0.7569767441860465"
      ]
     },
     "execution_count": 476,
     "metadata": {},
     "output_type": "execute_result"
    }
   ],
   "source": [
    "my_clf = MyGradientBoostingClassifier(loss ='Exp', learning_rate=0.2, colsample=0.7, subsample=0.5)\n",
    "my_clf.fit(X_train, y_train, init_model=RandomForestRegressor())\n",
    "accuracy_score(y_pred=my_clf.predict(X_test), y_true=y_test)"
   ]
  },
  {
   "cell_type": "code",
   "execution_count": 477,
   "metadata": {},
   "outputs": [
    {
     "data": {
      "text/plain": [
       "0.7703488372093024"
      ]
     },
     "execution_count": 477,
     "metadata": {},
     "output_type": "execute_result"
    }
   ],
   "source": [
    "my_clf = MyGradientBoostingClassifier(loss ='Log', learning_rate=0.2, colsample=0.7, subsample=0.5)\n",
    "my_clf.fit(X_train, y_train, init_model=RandomForestRegressor())\n",
    "accuracy_score(y_pred=my_clf.predict(X_test), y_true=y_test)"
   ]
  },
  {
   "cell_type": "code",
   "execution_count": 478,
   "metadata": {},
   "outputs": [
    {
     "data": {
      "text/plain": [
       "0.5800387596899225"
      ]
     },
     "execution_count": 478,
     "metadata": {},
     "output_type": "execute_result"
    }
   ],
   "source": [
    "my_clf = MyGradientBoostingClassifier(learning_rate=0.2, colsample=0.7, subsample=0.5)\n",
    "my_clf.fit(X_train, y_train, init_model=RandomForestClassifier())\n",
    "accuracy_score(y_pred=my_clf.predict(X_test), y_true=y_test)"
   ]
  },
  {
   "cell_type": "code",
   "execution_count": 479,
   "metadata": {},
   "outputs": [
    {
     "data": {
      "text/plain": [
       "0.7972868217054263"
      ]
     },
     "execution_count": 479,
     "metadata": {},
     "output_type": "execute_result"
    }
   ],
   "source": [
    "my_clf = MyGradientBoostingClassifier(loss ='Exp', learning_rate=0.2, colsample=0.7, subsample=0.5)\n",
    "my_clf.fit(X_train, y_train, init_model=RandomForestClassifier())\n",
    "accuracy_score(y_pred=my_clf.predict(X_test), y_true=y_test)"
   ]
  },
  {
   "cell_type": "code",
   "execution_count": 480,
   "metadata": {},
   "outputs": [
    {
     "data": {
      "text/plain": [
       "0.8023255813953488"
      ]
     },
     "execution_count": 480,
     "metadata": {},
     "output_type": "execute_result"
    }
   ],
   "source": [
    "my_clf = MyGradientBoostingClassifier(loss ='Log', learning_rate=0.2, colsample=0.7, subsample=0.5)\n",
    "my_clf.fit(X_train, y_train, init_model=RandomForestClassifier())\n",
    "accuracy_score(y_pred=my_clf.predict(X_test), y_true=y_test)"
   ]
  },
  {
   "cell_type": "markdown",
   "metadata": {},
   "source": [
    "Не получилось улучшить качество, это связано с тем что началный алгоритм не должен быть слишком сложным, так как он хорошо обучается, а остальные модели учатся значительно слабее."
   ]
  },
  {
   "cell_type": "markdown",
   "metadata": {},
   "source": [
    "## Фидбек (бесценно)"
   ]
  },
  {
   "cell_type": "markdown",
   "metadata": {},
   "source": [
    "* Какие аспекты обучения  ансамблей Вам показались непонятными? Какое место стоит дополнительно объяснить?"
   ]
  },
  {
   "cell_type": "markdown",
   "metadata": {},
   "source": [
    "### Ваш ответ здесь"
   ]
  },
  {
   "cell_type": "markdown",
   "metadata": {},
   "source": [
    "* Здесь Вы можете оставить отзыв о этой домашней работе или о всем курсе."
   ]
  },
  {
   "cell_type": "markdown",
   "metadata": {},
   "source": [
    "### ВАШ ОТЗЫВ ЗДЕСЬ\n",
    "\n"
   ]
  },
  {
   "cell_type": "markdown",
   "metadata": {
    "collapsed": true,
    "jupyter": {
     "outputs_hidden": true
    }
   },
   "source": [
    "Эта работа помогла разобраться с темой, спасибо)"
   ]
  },
  {
   "cell_type": "code",
   "execution_count": null,
   "metadata": {
    "collapsed": true,
    "jupyter": {
     "outputs_hidden": true
    }
   },
   "outputs": [],
   "source": []
  }
 ],
 "metadata": {
  "anaconda-cloud": {},
  "kernelspec": {
   "display_name": "Python 3 (ipykernel)",
   "language": "python",
   "name": "python3"
  },
  "language_info": {
   "codemirror_mode": {
    "name": "ipython",
    "version": 3
   },
   "file_extension": ".py",
   "mimetype": "text/x-python",
   "name": "python",
   "nbconvert_exporter": "python",
   "pygments_lexer": "ipython3",
   "version": "3.9.5"
  }
 },
 "nbformat": 4,
 "nbformat_minor": 4
}
